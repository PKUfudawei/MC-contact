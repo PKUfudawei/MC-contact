{
 "cells": [
  {
   "cell_type": "code",
   "execution_count": 45,
   "metadata": {},
   "outputs": [],
   "source": [
    "import sys\n",
    "import os\n",
    "sys.path.append('/afs/cern.ch/cms/PPD/PdmV/tools/McM/')\n",
    "from rest import McM\n"
   ]
  },
  {
   "cell_type": "code",
   "execution_count": 46,
   "metadata": {},
   "outputs": [
    {
     "name": "stderr",
     "output_type": "stream",
     "text": [
      "[2022-11-10 13:34:57,613][INFO] SSO cookie file is absent. Will try to make one for you...\n"
     ]
    }
   ],
   "source": [
    "mcm = McM(dev=False)\n",
    "#mcm.get('requests', 'PPD-RunIIWinter19PFCalib17pLHE-00001', method='get')\n",
    "#mcm.get('requests', query='prepid=*-RunIIWinter19PFCalib17pLHE-*&status=new')\n",
    "results = mcm.get('requests', query='tags=*dekumar*')"
   ]
  },
  {
   "cell_type": "code",
   "execution_count": 47,
   "metadata": {},
   "outputs": [],
   "source": [
    "for r in results:\n",
    "    r['fragment'] = r['fragment'].replace(\n",
    "    '/cvmfs/cms.cern.ch/phys_generator/gridpacks/2017/13TeV/madgraph/V5_2.6.0/monoHiggs/2HDMa/',\n",
    "    '/cvmfs/cms.cern.ch/phys_generator/gridpacks/slc6_amd64_gcc630/13TeV/madgraph/V5_2.6.0/monoHiggs/2HDMa/'\n",
    ")"
   ]
  },
  {
   "cell_type": "code",
   "execution_count": 48,
   "metadata": {},
   "outputs": [
    {
     "data": {
      "text/plain": [
       "'import FWCore.ParameterSet.Config as cms\\n\\nexternalLHEProducer = cms.EDProducer(\"ExternalLHEProducer\",\\n    args = cms.vstring(\\'/cvmfs/cms.cern.ch/phys_generator/gridpacks/slc6_amd64_gcc630/13TeV/madgraph/V5_2.6.0/monoHiggs/2HDMa/2HDMa_gg_sinp_0p35_tanb_1p0_mXd_10_MH3_200_MH4_450_MH2_200_MHC_200_slc6_amd64_gcc630_CMSSW_9_3_8_tarball.tar.xz\\'),\\n    nEvents = cms.untracked.uint32(5000),\\n    numberOfParameters = cms.uint32(1),\\n    outputFile = cms.string(\\'cmsgrid_final.lhe\\'),\\n    \\n    scriptName = cms.FileInPath(\\'GeneratorInterface/LHEInterface/data/run_generic_tarball_cvmfs.sh\\')\\n)\\nimport FWCore.ParameterSet.Config as cms\\nfrom Configuration.Generator.Pythia8CommonSettings_cfi import *\\nfrom Configuration.Generator.MCTunes2017.PythiaCP3Settings_cfi import *\\nfrom Configuration.Generator.PSweightsPythia.PythiaPSweightsSettings_cfi import *\\n\\ngenerator = cms.EDFilter(\"Pythia8HadronizerFilter\",\\n                         maxEventsToPrint = cms.untracked.int32(1),\\n                         pythiaPylistVerbosity = cms.untracked.int32(1),\\n                         filterEfficiency = cms.untracked.double(1.0),\\n                         pythiaHepMCVerbosity = cms.untracked.bool(False),\\n                         comEnergy = cms.double(13000.),\\n                         PythiaParameters = cms.PSet(\\n        pythia8CommonSettingsBlock,\\n        pythia8CP3SettingsBlock,\\n        pythia8PSweightsSettingsBlock,\\n        processParameters = cms.vstring(\\n            \\'SLHA:useDecayTable = off\\',  # Use pythia8s own decay mode instead of decays defined in LH accord\\n            \\'25:m0 = 125.0\\',\\n            \\'25:onMode = off\\',\\n            \\'25:onIfMatch = 5 -5\\'\\n            ),\\n        parameterSets = cms.vstring(\\'pythia8CommonSettings\\',\\n                                    \\'pythia8CP3Settings\\',\\n                                    \\'processParameters\\',\\n                                    \\'pythia8PSweightsSettings\\'\\n                                    )\\n        )\\n                         )\\n\\nProductionFilterSequence = cms.Sequence(generator)\\n\\n\\n# Link to generator fragment:\\n# monohiggs_fragment.py\\n'"
      ]
     },
     "execution_count": 48,
     "metadata": {},
     "output_type": "execute_result"
    }
   ],
   "source": [
    "results[0]['fragment']"
   ]
  },
  {
   "cell_type": "code",
   "execution_count": 49,
   "metadata": {},
   "outputs": [],
   "source": [
    "for r in results:\n",
    "    mcm.update('requests', r)"
   ]
  },
  {
   "cell_type": "code",
   "execution_count": null,
   "metadata": {},
   "outputs": [],
   "source": []
  }
 ],
 "metadata": {
  "kernelspec": {
   "display_name": "Python 3.9.6 64-bit",
   "language": "python",
   "name": "python3"
  },
  "language_info": {
   "codemirror_mode": {
    "name": "ipython",
    "version": 3
   },
   "file_extension": ".py",
   "mimetype": "text/x-python",
   "name": "python",
   "nbconvert_exporter": "python",
   "pygments_lexer": "ipython3",
   "version": "3.9.6"
  },
  "orig_nbformat": 4,
  "vscode": {
   "interpreter": {
    "hash": "5d9ed60d17f171815e2b7fd2c2dcbccfceeaecd7c826ac6508f0479ac2c061b9"
   }
  }
 },
 "nbformat": 4,
 "nbformat_minor": 2
}
