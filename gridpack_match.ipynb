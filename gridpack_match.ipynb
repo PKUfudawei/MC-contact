{
 "cells": [
  {
   "cell_type": "code",
   "execution_count": 87,
   "metadata": {},
   "outputs": [],
   "source": [
    "import sys\n",
    "import os\n",
    "import pandas as pd\n",
    "sys.path.append('/afs/cern.ch/cms/PPD/PdmV/tools/McM/')\n",
    "from rest import McM\n"
   ]
  },
  {
   "cell_type": "code",
   "execution_count": 88,
   "metadata": {},
   "outputs": [
    {
     "name": "stderr",
     "output_type": "stream",
     "text": [
      "[2022-11-10 17:15:10,949][INFO] Using SSO cookie file /afs/cern.ch/user/d/dfu/private/mcm-prod-cookie.txt\n"
     ]
    },
    {
     "data": {
      "text/plain": [
       "76"
      ]
     },
     "execution_count": 88,
     "metadata": {},
     "output_type": "execute_result"
    }
   ],
   "source": [
    "mcm = McM(dev=False)  # p\n",
    "#mcm.get('requests', 'PPD-RunIIWinter19PFCalib17pLHE-00001', method='get')\n",
    "#mcm.get('requests', query='prepid=*-RunIIWinter19PFCalib17pLHE-*&status=new')\n",
    "results = mcm.get('requests', query='tags=*dekumar*')\n",
    "len(results)"
   ]
  },
  {
   "cell_type": "code",
   "execution_count": 89,
   "metadata": {},
   "outputs": [
    {
     "data": {
      "text/plain": [
       "44"
      ]
     },
     "execution_count": 89,
     "metadata": {},
     "output_type": "execute_result"
    }
   ],
   "source": [
    "undone = []\n",
    "for r in results:\n",
    "    r['fragment'] = r['fragment'].replace(\n",
    "        '/cvmfs/cms.cern.ch/phys_generator/gridpacks/2017/13TeV/madgraph/V5_2.6.0/monoHiggs/2HDMa/',\n",
    "        '/cvmfs/cms.cern.ch/phys_generator/gridpacks/slc6_amd64_gcc630/13TeV/madgraph/V5_2.6.0/monoHiggs/2HDMa/'\n",
    "    )\n",
    "    gridpack_path = r['fragment'].split(\"cms.vstring(\\'\")[1].split(\"\\')\")[0]\n",
    "    if not os.path.exists(gridpack_path):\n",
    "        undone.append(gridpack_path)\n",
    "len(undone)"
   ]
  },
  {
   "cell_type": "code",
   "execution_count": 90,
   "metadata": {},
   "outputs": [
    {
     "data": {
      "text/plain": [
       "'/cvmfs/cms.cern.ch/phys_generator/gridpacks/slc6_amd64_gcc630/13TeV/madgraph/V5_2.6.0/monoHiggs/2HDMa/2HDMa_gg_sinp_0p35_tanb_1p0_mXd_10_MH3_200_MH4_450_MH2_200_MHC_200_slc6_amd64_gcc630_CMSSW_9_3_8_tarball.tar.xz'"
      ]
     },
     "execution_count": 90,
     "metadata": {},
     "output_type": "execute_result"
    }
   ],
   "source": [
    "undone[0]"
   ]
  },
  {
   "cell_type": "code",
   "execution_count": 91,
   "metadata": {},
   "outputs": [],
   "source": [
    "process = []\n",
    "MH3 = []\n",
    "MH4 = []\n",
    "st = []\n",
    "tb = []\n",
    "for tokens in undone:\n",
    "    tokens = tokens.split('_')\n",
    "    for i in range(len(tokens)):\n",
    "        if tokens[i].endswith('2HDMa'):\n",
    "            process.append(tokens[i+1])\n",
    "        if tokens[i] == 'MH3':\n",
    "            MH3.append(tokens[i+1])\n",
    "        if tokens[i] == 'MH4':\n",
    "            MH4.append(tokens[i+1])\n",
    "        if tokens[i] == 'sinp':\n",
    "            st.append(tokens[i+1].replace('p', '.'))\n",
    "        if tokens[i] == 'tanb':\n",
    "            tb.append(tokens[i+1].replace('p', '.'))"
   ]
  },
  {
   "cell_type": "code",
   "execution_count": 92,
   "metadata": {},
   "outputs": [
    {
     "data": {
      "text/plain": [
       "(['gg',\n",
       "  'gg',\n",
       "  'gg',\n",
       "  'gg',\n",
       "  'gg',\n",
       "  'gg',\n",
       "  'gg',\n",
       "  'gg',\n",
       "  'gg',\n",
       "  'gg',\n",
       "  'gg',\n",
       "  'bb',\n",
       "  'bb',\n",
       "  'bb',\n",
       "  'bb',\n",
       "  'bb',\n",
       "  'bb',\n",
       "  'bb',\n",
       "  'bb',\n",
       "  'bb',\n",
       "  'bb',\n",
       "  'bb',\n",
       "  'gg',\n",
       "  'gg',\n",
       "  'gg',\n",
       "  'gg',\n",
       "  'gg',\n",
       "  'gg',\n",
       "  'gg',\n",
       "  'gg',\n",
       "  'gg',\n",
       "  'gg',\n",
       "  'gg',\n",
       "  'bb',\n",
       "  'bb',\n",
       "  'bb',\n",
       "  'bb',\n",
       "  'bb',\n",
       "  'bb',\n",
       "  'bb',\n",
       "  'bb',\n",
       "  'bb',\n",
       "  'bb',\n",
       "  'bb'],\n",
       " ['200',\n",
       "  '400',\n",
       "  '600',\n",
       "  '1000',\n",
       "  '1200',\n",
       "  '1600',\n",
       "  '1800',\n",
       "  '1800',\n",
       "  '1800',\n",
       "  '1800',\n",
       "  '1800',\n",
       "  '200',\n",
       "  '400',\n",
       "  '600',\n",
       "  '1000',\n",
       "  '1200',\n",
       "  '1600',\n",
       "  '1800',\n",
       "  '1800',\n",
       "  '1800',\n",
       "  '1800',\n",
       "  '1800',\n",
       "  '200',\n",
       "  '400',\n",
       "  '600',\n",
       "  '1000',\n",
       "  '1200',\n",
       "  '1600',\n",
       "  '1800',\n",
       "  '1800',\n",
       "  '1800',\n",
       "  '1800',\n",
       "  '1800',\n",
       "  '200',\n",
       "  '400',\n",
       "  '600',\n",
       "  '1000',\n",
       "  '1200',\n",
       "  '1600',\n",
       "  '1800',\n",
       "  '1800',\n",
       "  '1800',\n",
       "  '1800',\n",
       "  '1800'],\n",
       " ['450',\n",
       "  '450',\n",
       "  '450',\n",
       "  '450',\n",
       "  '450',\n",
       "  '450',\n",
       "  '450',\n",
       "  '150',\n",
       "  '250',\n",
       "  '350',\n",
       "  '450',\n",
       "  '450',\n",
       "  '450',\n",
       "  '450',\n",
       "  '450',\n",
       "  '450',\n",
       "  '450',\n",
       "  '450',\n",
       "  '150',\n",
       "  '250',\n",
       "  '350',\n",
       "  '450',\n",
       "  '450',\n",
       "  '450',\n",
       "  '450',\n",
       "  '450',\n",
       "  '450',\n",
       "  '450',\n",
       "  '450',\n",
       "  '150',\n",
       "  '250',\n",
       "  '350',\n",
       "  '450',\n",
       "  '450',\n",
       "  '450',\n",
       "  '450',\n",
       "  '450',\n",
       "  '450',\n",
       "  '450',\n",
       "  '450',\n",
       "  '150',\n",
       "  '250',\n",
       "  '350',\n",
       "  '450'],\n",
       " ['0.35',\n",
       "  '0.35',\n",
       "  '0.35',\n",
       "  '0.35',\n",
       "  '0.35',\n",
       "  '0.35',\n",
       "  '0.35',\n",
       "  '0.35',\n",
       "  '0.35',\n",
       "  '0.35',\n",
       "  '0.35',\n",
       "  '0.35',\n",
       "  '0.35',\n",
       "  '0.35',\n",
       "  '0.35',\n",
       "  '0.35',\n",
       "  '0.35',\n",
       "  '0.35',\n",
       "  '0.35',\n",
       "  '0.35',\n",
       "  '0.35',\n",
       "  '0.35',\n",
       "  '0.35',\n",
       "  '0.35',\n",
       "  '0.35',\n",
       "  '0.35',\n",
       "  '0.35',\n",
       "  '0.35',\n",
       "  '0.35',\n",
       "  '0.35',\n",
       "  '0.35',\n",
       "  '0.35',\n",
       "  '0.35',\n",
       "  '0.35',\n",
       "  '0.35',\n",
       "  '0.35',\n",
       "  '0.35',\n",
       "  '0.35',\n",
       "  '0.35',\n",
       "  '0.35',\n",
       "  '0.35',\n",
       "  '0.35',\n",
       "  '0.35',\n",
       "  '0.35'],\n",
       " ['1.0',\n",
       "  '1.0',\n",
       "  '1.0',\n",
       "  '1.0',\n",
       "  '1.0',\n",
       "  '1.0',\n",
       "  '1.0',\n",
       "  '1.0',\n",
       "  '1.0',\n",
       "  '1.0',\n",
       "  '1.0',\n",
       "  '1.0',\n",
       "  '1.0',\n",
       "  '1.0',\n",
       "  '1.0',\n",
       "  '1.0',\n",
       "  '1.0',\n",
       "  '1.0',\n",
       "  '1.0',\n",
       "  '1.0',\n",
       "  '1.0',\n",
       "  '1.0',\n",
       "  '1.0',\n",
       "  '1.0',\n",
       "  '1.0',\n",
       "  '1.0',\n",
       "  '1.0',\n",
       "  '1.0',\n",
       "  '1.0',\n",
       "  '1.0',\n",
       "  '1.0',\n",
       "  '1.0',\n",
       "  '1.0',\n",
       "  '1.0',\n",
       "  '1.0',\n",
       "  '1.0',\n",
       "  '1.0',\n",
       "  '1.0',\n",
       "  '1.0',\n",
       "  '1.0',\n",
       "  '1.0',\n",
       "  '1.0',\n",
       "  '1.0',\n",
       "  '1.0'])"
      ]
     },
     "execution_count": 92,
     "metadata": {},
     "output_type": "execute_result"
    }
   ],
   "source": [
    "process, MH3, MH4, st, tb"
   ]
  },
  {
   "cell_type": "code",
   "execution_count": 93,
   "metadata": {},
   "outputs": [],
   "source": [
    "df = pd.DataFrame({'mA': MH3, 'ma': MH4, 'mchi': ['None' for _ in range(len(MH3))], 'tb': tb, 'st': st, 'process': process})\n",
    "with open('par_scans_2HDMa.txt', 'w') as f:\n",
    "    df.to_csv(f, sep='\\t', index=False, header=True, encoding=\"utf-8\")"
   ]
  },
  {
   "cell_type": "code",
   "execution_count": 94,
   "metadata": {},
   "outputs": [],
   "source": [
    "#for r in results:\n",
    "#    mcm.update('requests', r)"
   ]
  },
  {
   "cell_type": "code",
   "execution_count": null,
   "metadata": {},
   "outputs": [],
   "source": []
  }
 ],
 "metadata": {
  "kernelspec": {
   "display_name": "Python 3.9.6 64-bit",
   "language": "python",
   "name": "python3"
  },
  "language_info": {
   "codemirror_mode": {
    "name": "ipython",
    "version": 3
   },
   "file_extension": ".py",
   "mimetype": "text/x-python",
   "name": "python",
   "nbconvert_exporter": "python",
   "pygments_lexer": "ipython3",
   "version": "3.9.6"
  },
  "orig_nbformat": 4,
  "vscode": {
   "interpreter": {
    "hash": "5d9ed60d17f171815e2b7fd2c2dcbccfceeaecd7c826ac6508f0479ac2c061b9"
   }
  }
 },
 "nbformat": 4,
 "nbformat_minor": 2
}
