{
 "cells": [
  {
   "cell_type": "code",
   "execution_count": 1,
   "metadata": {},
   "outputs": [],
   "source": [
    "import sys\n",
    "import os\n",
    "import pandas as pd\n",
    "sys.path.append('/afs/cern.ch/cms/PPD/PdmV/tools/McM/')\n",
    "from rest import McM"
   ]
  },
  {
   "cell_type": "code",
   "execution_count": 3,
   "metadata": {},
   "outputs": [
    {
     "name": "stderr",
     "output_type": "stream",
     "text": [
      "[2022-12-22 18:21:03,703][INFO] Using SSO cookie file /afs/cern.ch/user/d/dfu/private/mcm-prod-cookie.txt\n"
     ]
    },
    {
     "data": {
      "text/plain": [
       "99"
      ]
     },
     "execution_count": 3,
     "metadata": {},
     "output_type": "execute_result"
    }
   ],
   "source": [
    "mcm = McM(dev=False)\n",
    "tags = '20221212_ali_SMS_N2N3'\n",
    "results = mcm.get('requests', query=f'tags={tags}&approval=none')\n",
    "len(results)"
   ]
  },
  {
   "cell_type": "code",
   "execution_count": 4,
   "metadata": {},
   "outputs": [],
   "source": [
    "CLEAR=False\n",
    "if CLEAR:\n",
    "    for r in results:\n",
    "        mcm.delete(object_type='requests', object_id=r['_id'])"
   ]
  },
  {
   "cell_type": "code",
   "execution_count": 5,
   "metadata": {},
   "outputs": [
    {
     "data": {
      "text/plain": [
       "[4]"
      ]
     },
     "execution_count": 5,
     "metadata": {},
     "output_type": "execute_result"
    }
   ],
   "source": [
    "results[0]['time_event']"
   ]
  },
  {
   "cell_type": "code",
   "execution_count": 6,
   "metadata": {},
   "outputs": [],
   "source": [
    "for r in results:\n",
    "    r['time_event'] = [5]\n",
    "    #r['size_event'] = [600]\n",
    "    #r['fragment'] = r['fragment'].replace('from  Configuration.Generator.MCTunesRun3ECM13p6TeV.PythiaCP5Settings_cfi import *', 'from Configuration.Generator.MCTunesRun3ECM13p6TeV.PythiaCP5Settings_cfi import *')"
   ]
  },
  {
   "cell_type": "code",
   "execution_count": 7,
   "metadata": {},
   "outputs": [
    {
     "data": {
      "text/plain": [
       "{'total_events': 50000,\n",
       " 'config_id': [],\n",
       " 'events_per_lumi': 0,\n",
       " 'cmssw_release': 'CMSSW_10_6_31',\n",
       " 'mcdb_id': 0,\n",
       " 'transient_output_modules': [[]],\n",
       " 'sequences': [{'eventcontent': ['RAWSIM', 'LHE'],\n",
       "   'runsScenarioForMC': '',\n",
       "   'donotDropOnInput': '',\n",
       "   'extra': '',\n",
       "   'slhc': '',\n",
       "   'runsAndWeightsForMC': '',\n",
       "   'outputCommand': '',\n",
       "   'dropDescendant': False,\n",
       "   'pileup': '',\n",
       "   'hltProcess': '',\n",
       "   'index': -1,\n",
       "   'customise': '',\n",
       "   'custom_conditions': '',\n",
       "   'datatier': ['GEN', 'LHE'],\n",
       "   'processName': '',\n",
       "   'inputCommands': '',\n",
       "   'particle_table': '',\n",
       "   'conditions': '106X_mcRun2_asymptotic_v13',\n",
       "   'harvesting': '',\n",
       "   'triggerResultsProcess': '',\n",
       "   'inputEventContent': '',\n",
       "   'beamspot': 'Realistic25ns13TeV2016Collision',\n",
       "   'restoreRNDSeeds': '',\n",
       "   'filtername': '',\n",
       "   'repacked': '',\n",
       "   'customise_commands': '',\n",
       "   'step': ['LHE', 'GEN'],\n",
       "   'gflash': '',\n",
       "   'procModifiers': '',\n",
       "   'magField': '',\n",
       "   'himix': False,\n",
       "   'nThreads': '1',\n",
       "   'scenario': '',\n",
       "   'geometry': 'DB:Extended',\n",
       "   'nStreams': 0,\n",
       "   'datamix': '',\n",
       "   'inline_custom': False,\n",
       "   'era': 'Run2_2016'}],\n",
       " 'block_black_list': [],\n",
       " 'block_white_list': [],\n",
       " 'interested_pwg': ['EXO'],\n",
       " 'process_string': '',\n",
       " 'ppd_tags': [],\n",
       " 'fragment_tag': '',\n",
       " 'generator_parameters': [{'submission_details': {'submission_date': '2022-12-14-07-32',\n",
       "    'author_email': 'shriniketan.acharya@cern.ch',\n",
       "    'author_username': 'shachary',\n",
       "    'author_name': 'Shriniketan Acharya'},\n",
       "   'match_efficiency_error': 0,\n",
       "   'match_efficiency': 0.4,\n",
       "   'filter_efficiency': 1,\n",
       "   'negative_weights_fraction': -1,\n",
       "   'version': 0,\n",
       "   'cross_section': 1,\n",
       "   'filter_efficiency_error': 0}],\n",
       " 'flown_with': '',\n",
       " 'priority': 20000,\n",
       " 'version': 0,\n",
       " 'generators': ['madgraph'],\n",
       " 'analysis_id': [],\n",
       " 'memory': 1900,\n",
       " 'type': 'LHE',\n",
       " '_rev': '12-803437d9f0031aca1ede68f3c12a7813',\n",
       " 'status': 'new',\n",
       " 'keep_output': [False],\n",
       " 'energy': 13,\n",
       " 'tags': ['20221212_ali_SMS_N2N3'],\n",
       " 'fragment': 'import FWCore.ParameterSet.Config as cms\\n\\nexternalLHEProducer = cms.EDProducer(\"ExternalLHEProducer\",\\n    args = cms.vstring(\\'/cvmfs/cms.cern.ch/phys_generator/gridpacks/RunII/13TeV/slc7_amd64_gcc700/MadGraph5_aMCatNLO/SMS_N2N3/SMS-N2N3_mN-1000_slc7_amd64_gcc700_CMSSW_10_6_19_tarball.tar.xz\\'),\\n    nEvents = cms.untracked.uint32(5000),\\n    numberOfParameters = cms.uint32(1),\\n    outputFile = cms.string(\\'cmsgrid_final.lhe\\'),\\n    generateConcurrently = cms.untracked.bool(True),\\n    scriptName = cms.FileInPath(\\'GeneratorInterface/LHEInterface/data/run_generic_tarball_cvmfs.sh\\')\\n)\\n#Need hbar*c to convert lifetime to width    \\nhBarCinGeVmm = 1.973269788e-13\\nMCHI = 1000\\nCTAU = 0.1\\nWCHI = hBarCinGeVmm/CTAU\\nGRIDPACK = \\'/cvmfs/cms.cern.ch/phys_generator/gridpacks/2017/13TeV/madgraph/V5_2.4.2/sus_sms/LO_PDF/SMS-N2N3/v1/SMS-N2N3_mN-%i_slc6_amd64_gcc481_CMSSW_7_1_30_tarball.tar.xz\\' % (MCHI)\\nSLHA_TABLE=\"\"\"\\nBLOCK MASS  # Mass Spectrum\\n# PDG code           mass       particle\\n   1000001     1.00000000E+05   # ~d_L\\n   2000001     1.00000000E+05   # ~d_R\\n   1000002     1.00000000E+05   # ~u_L\\n   2000002     1.00000000E+05   # ~u_R\\n   1000003     1.00000000E+05   # ~s_L\\n   2000003     1.00000000E+05   # ~s_R\\n   1000004     1.00000000E+05   # ~c_L\\n   2000004     1.00000000E+05   # ~c_R\\n   1000005     1.00000000E+05   # ~b_1\\n   2000005     1.00000000E+05   # ~b_2\\n   1000006     1.00000000E+05   # ~t_1\\n   2000006     1.00000000E+05   # ~t_2\\n   1000011     1.00000000E+05   # ~e_L\\n   2000011     1.00000000E+05   # ~e_R\\n   1000012     1.00000000E+05   # ~nu_eL\\n   1000013     1.00000000E+05   # ~mu_L\\n   2000013     1.00000000E+05   # ~mu_R\\n   1000014     1.00000000E+05   # ~nu_muL\\n   1000015     1.00000000E+05   # ~tau_1\\n   2000015     1.00000000E+05   # ~tau_2\\n   1000016     1.00000000E+05   # ~nu_tauL\\n   1000021     1.00000000E+05   # ~g\\n   1000022     1.00000000E+00   # ~chi_10\\n   1000023     %MCHI%           # ~chi_20\\n   1000025     %MCHI%           # ~chi_30\\n   1000035     1.00000000E+05   # ~chi_40\\n   1000024     1.00000000E+05   # ~chi_1+\\n   1000037     1.00000000E+05   # ~chi_2+\\n   1000039     1.00000000E+05   # ~gravitino\\n\\n# DECAY TABLE\\n#         PDG            Width\\nDECAY   1000001     0.00000000E+00   # sdown_L decays\\nDECAY   2000001     0.00000000E+00   # sdown_R decays\\nDECAY   1000002     0.00000000E+00   # sup_L decays\\nDECAY   2000002     0.00000000E+00   # sup_R decays\\nDECAY   1000003     0.00000000E+00   # sstrange_L decays\\nDECAY   2000003     0.00000000E+00   # sstrange_R decays\\nDECAY   1000004     0.00000000E+00   # scharm_L decays\\nDECAY   2000004     0.00000000E+00   # scharm_R decays\\nDECAY   1000005     0.00000000E+00   # sbottom1 decays\\nDECAY   2000005     0.00000000E+00   # sbottom2 decays\\nDECAY   1000006     0.00000000E+00   # stop1 decays\\nDECAY   2000006     0.00000000E+00   # stop2 decays\\nDECAY   1000011     0.00000000E+00   # selectron_L decays\\nDECAY   2000011     0.00000000E+00   # selectron_R decays\\nDECAY   1000012     0.00000000E+00   # snu_elL decays\\nDECAY   1000013     0.00000000E+00   # smuon_L decays\\nDECAY   2000013     0.00000000E+00   # smuon_R decays\\nDECAY   1000014     0.00000000E+00   # snu_muL decays\\nDECAY   1000015     0.00000000E+00   # stau_1 decays\\nDECAY   2000015     0.00000000E+00   # stau_2 decays\\nDECAY   1000016     0.00000000E+00   # snu_tauL decays\\nDECAY   1000021     0.00000000E+00   # gluino decays\\nDECAY   1000022     0.00000000E+00   # neutralino1 decays\\nDECAY   1000023     %WCHI%   # neutralino2 decays\\n    0.00000000E+00    3     1000022   5   -5  # Dummy decay\\n    0.50000000E+00    2     1000022   25      # BR(N2 -> N1 + H)\\n    0.500000000E+00   2     1000022   23      # BR(N2 -> N1 + Z)\\nDECAY   1000024     0.00000000E+00   # chargino1+ decays\\nDECAY   1000025     %WCHI%   # neutralino3 decays\\n    0.00000000E+00    3     1000022   5   -5  # Dummy decay \\n    0.50000000E+00    2     1000022   25      # BR(N3 -> N1 + H)\\n    0.500000000E+00   2     1000022   23      # BR(N3 -> N1 + Z)\\nDECAY   1000035     0.00000000E+00   # neutralino4 decays\\nDECAY   1000037     0.00000000E+00   # chargino2+ decays\\n\"\"\".replace(\\'%MCHI%\\',\\'%e\\' % MCHI).replace(\\'%WCHI%\\',\\'%e\\' % WCHI)\\n\\nimport FWCore.ParameterSet.Config as cms\\n\\nfrom Configuration.Generator.Pythia8CommonSettings_cfi import *\\nfrom Configuration.Generator.MCTunes2017.PythiaCP2Settings_cfi import *\\nfrom Configuration.Generator.PSweightsPythia.PythiaPSweightsSettings_cfi import *\\n\\ngenerator = cms.EDFilter(\"Pythia8ConcurrentHadronizerFilter\",\\n    maxEventsToPrint = cms.untracked.int32(1),\\n    pythiaPylistVerbosity = cms.untracked.int32(1),\\n    filterEfficiency = cms.untracked.double(1.0),\\n    pythiaHepMCVerbosity = cms.untracked.bool(False),\\n    SLHATableForPythia8 = cms.string(\\'%s\\' % SLHA_TABLE),\\n    comEnergy = cms.double(13000.),\\n    PythiaParameters = cms.PSet(\\n        pythia8CommonSettingsBlock,\\n        pythia8CP2SettingsBlock,\\n        pythia8PSweightsSettingsBlock,\\n        processParameters = cms.vstring(\\n            \\'1000023:tau0 = %.1f\\' % CTAU,\\n            \\'1000025:tau0 = %.1f\\' % CTAU,\\n            \\'LesHouches:setLifetime = 2\\',\\n        ),\\n        JetMatchingParameters = cms.vstring(\\n            \\'JetMatching:setMad = off\\',\\n            \\'JetMatching:scheme = 1\\',\\n            \\'JetMatching:merge = on\\',\\n            \\'JetMatching:jetAlgorithm = 2\\',\\n            \\'JetMatching:etaJetMax = 5.\\',\\n            \\'JetMatching:coneRadius = 1.\\',\\n            \\'JetMatching:slowJetPower = 1\\',\\n            \\'JetMatching:qCut = 76.\\', #this is the actual merging scale \\n            \\'JetMatching:nQmatch = 5\\', #4 corresponds to 4-flavour scheme (no matching of b-quarks), 5 for 5-flavour scheme\\n            \\'JetMatching:nJetMax = 2\\', #number of partons in born matrix element for highest multiplicity\\n            \\'JetMatching:doShowerKt = off\\', #off for MLM matching, turn on for shower-kT matching\\n            \\'6:m0 = 172.5\\',\\n            \\'25:onMode = off\\',\\n            \\'25:onIfMatch = 5 -5\\', # Only H->bb decays\\n            \\'25:m0 = 125.0\\',\\n            \\'23:onMode = off\\',\\n            \\'23:onIfAny = 1 2 3 4 5\\', # Only Z->qq decays\\n        ),\\n        parameterSets = cms.vstring(\\'pythia8CommonSettings\\',\\n                                    \\'pythia8CP2Settings\\',\\n                                    \\'pythia8PSweightsSettings\\',\\n                                    \\'processParameters\\',\\n                                    \\'JetMatchingParameters\\',\\n                                    )\\n    )\\n)\\n\\nProductionFilterSequence = cms.Sequence(generator)\\n\\n\\n\\n# Link to generator fragment:\\n# genFragments/Hadronizer/13TeV/SMS_N2N3/SMS-N2N3_M1000_ctau0p1_TuneCP2_13TeV-madgraph-pythia8_cff.py\\n',\n",
       " '_id': 'EXO-RunIISummer20UL16wmLHEGEN-03783',\n",
       " 'time_event': [5],\n",
       " 'pwg': 'EXO',\n",
       " 'member_of_chain': [],\n",
       " 'approval': 'none',\n",
       " 'name_of_fragment': '',\n",
       " 'pileup_dataset_name': '',\n",
       " 'pilot': False,\n",
       " 'input_dataset': '',\n",
       " 'reqmgr_name': [],\n",
       " 'prepid': 'EXO-RunIISummer20UL16wmLHEGEN-03783',\n",
       " 'extension': 0,\n",
       " 'size_event': [118.3031],\n",
       " 'notes': '',\n",
       " 'completed_events': -1,\n",
       " 'history': [{'action': 'created',\n",
       "   'updater': {'submission_date': '2022-12-14-07-32',\n",
       "    'author_email': 'shriniketan.acharya@cern.ch',\n",
       "    'author_username': 'shachary',\n",
       "    'author_name': 'Shriniketan Acharya'}},\n",
       "  {'action': 'created',\n",
       "   'updater': {'submission_date': '2022-12-14-07-32',\n",
       "    'author_email': 'shriniketan.acharya@cern.ch',\n",
       "    'author_username': 'shachary',\n",
       "    'author_name': 'Shriniketan Acharya'}},\n",
       "  {'action': 'update',\n",
       "   'step': 'generator_parameters[0].cross_section, generator_parameters[0].filter_efficiency, generator_parameters[0].filter_efficiency_error, generator_parameters[0].match_efficiency, generator_parameters[0].match_efficiency_error',\n",
       "   'updater': {'submission_date': '2022-12-14-07-32',\n",
       "    'author_email': 'shriniketan.acharya@cern.ch',\n",
       "    'author_username': 'shachary',\n",
       "    'author_name': 'Shriniketan Acharya'}},\n",
       "  {'action': 'approve',\n",
       "   'step': 'validation',\n",
       "   'updater': {'submission_date': '2022-12-14-07-37',\n",
       "    'author_email': 'shriniketan.acharya@cern.ch',\n",
       "    'author_username': 'shachary',\n",
       "    'author_name': 'Shriniketan Acharya'}},\n",
       "  {'action': 'validation',\n",
       "   'step': 'failed',\n",
       "   'updater': {'submission_date': '2022-12-14-08-00',\n",
       "    'author_email': '',\n",
       "    'author_username': 'automatic',\n",
       "    'author_name': ''}},\n",
       "  {'action': 'update',\n",
       "   'updater': {'submission_date': '2022-12-19-22-02',\n",
       "    'author_email': 'sitian.qian@cern.ch',\n",
       "    'author_username': 'sqian',\n",
       "    'author_name': 'Sitian Qian'}},\n",
       "  {'action': 'update',\n",
       "   'step': 'fragment',\n",
       "   'updater': {'submission_date': '2022-12-19-22-04',\n",
       "    'author_email': 'sitian.qian@cern.ch',\n",
       "    'author_username': 'sqian',\n",
       "    'author_name': 'Sitian Qian'}},\n",
       "  {'action': 'approve',\n",
       "   'step': 'validation',\n",
       "   'updater': {'submission_date': '2022-12-19-22-06',\n",
       "    'author_email': 'sitian.qian@cern.ch',\n",
       "    'author_username': 'sqian',\n",
       "    'author_name': 'Sitian Qian'}},\n",
       "  {'action': 'validation',\n",
       "   'step': 'failed',\n",
       "   'updater': {'submission_date': '2022-12-20-14-42',\n",
       "    'author_email': '',\n",
       "    'author_username': 'automatic',\n",
       "    'author_name': ''}},\n",
       "  {'action': 'update',\n",
       "   'step': 'time_event[0]',\n",
       "   'updater': {'submission_date': '2022-12-20-20-50',\n",
       "    'author_email': 'sitian.qian@cern.ch',\n",
       "    'author_username': 'sqian',\n",
       "    'author_name': 'Sitian Qian'}},\n",
       "  {'action': 'approve',\n",
       "   'step': 'validation',\n",
       "   'updater': {'submission_date': '2022-12-20-20-51',\n",
       "    'author_email': 'sitian.qian@cern.ch',\n",
       "    'author_username': 'sqian',\n",
       "    'author_name': 'Sitian Qian'}},\n",
       "  {'action': 'validation',\n",
       "   'step': 'failed',\n",
       "   'updater': {'submission_date': '2022-12-22-01-40',\n",
       "    'author_email': '',\n",
       "    'author_username': 'automatic',\n",
       "    'author_name': ''}}],\n",
       " 'output_dataset': [],\n",
       " 'member_of_campaign': 'RunIISummer20UL16wmLHEGEN',\n",
       " 'validation': {'content': 'all', 'valid': False, 'results': {}},\n",
       " 'dataset_name': 'SMS-N2N3_M1000_ctau0p1_TuneCP2_13TeV-madgraph-pythia8',\n",
       " 'cadi_line': ''}"
      ]
     },
     "execution_count": 7,
     "metadata": {},
     "output_type": "execute_result"
    }
   ],
   "source": [
    "results[0]"
   ]
  },
  {
   "cell_type": "code",
   "execution_count": 9,
   "metadata": {},
   "outputs": [
    {
     "name": "stdout",
     "output_type": "stream",
     "text": [
      "EXO-RunIISummer20UL16wmLHEGEN-03783 revision clash\n",
      "EXO-RunIISummer20UL16wmLHEGEN-03784 revision clash\n",
      "EXO-RunIISummer20UL16wmLHEGEN-03785 revision clash\n",
      "EXO-RunIISummer20UL16wmLHEGEN-03786 revision clash\n",
      "EXO-RunIISummer20UL16wmLHEGEN-03788 revision clash\n",
      "EXO-RunIISummer20UL16wmLHEGEN-03789 revision clash\n",
      "EXO-RunIISummer20UL16wmLHEGEN-03790 revision clash\n",
      "EXO-RunIISummer20UL16wmLHEGEN-03791 revision clash\n",
      "EXO-RunIISummer20UL16wmLHEGEN-03792 revision clash\n",
      "EXO-RunIISummer20UL16wmLHEGEN-03798 revision clash\n",
      "EXO-RunIISummer20UL16wmLHEGEN-03799 revision clash\n",
      "EXO-RunIISummer20UL16wmLHEGEN-03800 revision clash\n",
      "EXO-RunIISummer20UL16wmLHEGEN-03801 revision clash\n",
      "EXO-RunIISummer20UL16wmLHEGEN-03802 revision clash\n",
      "EXO-RunIISummer20UL16wmLHEGEN-03806 revision clash\n",
      "EXO-RunIISummer20UL16wmLHEGEN-03808 revision clash\n",
      "EXO-RunIISummer20UL16wmLHEGEN-03809 revision clash\n",
      "EXO-RunIISummer20UL16wmLHEGEN-03810 revision clash\n",
      "EXO-RunIISummer20UL16wmLHEGEN-03811 revision clash\n",
      "EXO-RunIISummer20UL16wmLHEGEN-03814 revision clash\n",
      "EXO-RunIISummer20UL16wmLHEGEN-03815 revision clash\n",
      "EXO-RunIISummer20UL16wmLHEGEN-03817 revision clash\n",
      "EXO-RunIISummer20UL16wmLHEGEN-03820 revision clash\n",
      "EXO-RunIISummer20UL16wmLHEGEN-03821 revision clash\n",
      "EXO-RunIISummer20UL16wmLHEGEN-03822 revision clash\n",
      "EXO-RunIISummer20UL16wmLHEGENAPV-03539 revision clash\n",
      "EXO-RunIISummer20UL16wmLHEGENAPV-03540 revision clash\n",
      "EXO-RunIISummer20UL16wmLHEGENAPV-03541 revision clash\n",
      "EXO-RunIISummer20UL16wmLHEGENAPV-03542 revision clash\n",
      "EXO-RunIISummer20UL16wmLHEGENAPV-03543 revision clash\n",
      "EXO-RunIISummer20UL16wmLHEGENAPV-03544 revision clash\n",
      "EXO-RunIISummer20UL16wmLHEGENAPV-03545 revision clash\n",
      "EXO-RunIISummer20UL16wmLHEGENAPV-03546 revision clash\n",
      "EXO-RunIISummer20UL16wmLHEGENAPV-03547 revision clash\n",
      "EXO-RunIISummer20UL16wmLHEGENAPV-03553 revision clash\n",
      "EXO-RunIISummer20UL16wmLHEGENAPV-03554 revision clash\n",
      "EXO-RunIISummer20UL16wmLHEGENAPV-03555 revision clash\n",
      "EXO-RunIISummer20UL16wmLHEGENAPV-03556 revision clash\n",
      "EXO-RunIISummer20UL16wmLHEGENAPV-03557 revision clash\n",
      "EXO-RunIISummer20UL16wmLHEGENAPV-03563 revision clash\n",
      "EXO-RunIISummer20UL16wmLHEGENAPV-03564 revision clash\n",
      "EXO-RunIISummer20UL16wmLHEGENAPV-03566 revision clash\n",
      "EXO-RunIISummer20UL16wmLHEGENAPV-03568 revision clash\n",
      "EXO-RunIISummer20UL16wmLHEGENAPV-03569 revision clash\n",
      "EXO-RunIISummer20UL16wmLHEGENAPV-03570 revision clash\n",
      "EXO-RunIISummer20UL16wmLHEGENAPV-03571 revision clash\n",
      "EXO-RunIISummer20UL16wmLHEGENAPV-03574 revision clash\n",
      "EXO-RunIISummer20UL16wmLHEGENAPV-03575 revision clash\n",
      "EXO-RunIISummer20UL16wmLHEGENAPV-03576 revision clash\n",
      "EXO-RunIISummer20UL16wmLHEGENAPV-03577 revision clash\n",
      "EXO-RunIISummer20UL16wmLHEGENAPV-03577 revision clash\n",
      "EXO-RunIISummer20UL17wmLHEGEN-03584 revision clash\n",
      "EXO-RunIISummer20UL17wmLHEGEN-03585 revision clash\n",
      "EXO-RunIISummer20UL17wmLHEGEN-03587 revision clash\n",
      "EXO-RunIISummer20UL17wmLHEGEN-03588 revision clash\n",
      "EXO-RunIISummer20UL17wmLHEGEN-03589 revision clash\n",
      "EXO-RunIISummer20UL17wmLHEGEN-03590 revision clash\n",
      "EXO-RunIISummer20UL17wmLHEGEN-03591 revision clash\n",
      "EXO-RunIISummer20UL17wmLHEGEN-03592 revision clash\n",
      "EXO-RunIISummer20UL17wmLHEGEN-03598 revision clash\n",
      "EXO-RunIISummer20UL17wmLHEGEN-03599 revision clash\n",
      "EXO-RunIISummer20UL17wmLHEGEN-03600 revision clash\n",
      "EXO-RunIISummer20UL17wmLHEGEN-03601 revision clash\n",
      "EXO-RunIISummer20UL17wmLHEGEN-03602 revision clash\n",
      "EXO-RunIISummer20UL17wmLHEGEN-03608 revision clash\n",
      "EXO-RunIISummer20UL17wmLHEGEN-03609 revision clash\n",
      "EXO-RunIISummer20UL17wmLHEGEN-03610 revision clash\n",
      "EXO-RunIISummer20UL17wmLHEGEN-03611 revision clash\n",
      "EXO-RunIISummer20UL17wmLHEGEN-03614 revision clash\n",
      "EXO-RunIISummer20UL17wmLHEGEN-03615 revision clash\n",
      "EXO-RunIISummer20UL17wmLHEGEN-03616 revision clash\n",
      "EXO-RunIISummer20UL17wmLHEGEN-03617 revision clash\n",
      "EXO-RunIISummer20UL17wmLHEGEN-03620 revision clash\n",
      "EXO-RunIISummer20UL17wmLHEGEN-03621 revision clash\n",
      "EXO-RunIISummer20UL17wmLHEGEN-03622 revision clash\n",
      "EXO-RunIISummer20UL18wmLHEGEN-03599 revision clash\n",
      "EXO-RunIISummer20UL18wmLHEGEN-03600 revision clash\n",
      "EXO-RunIISummer20UL18wmLHEGEN-03601 revision clash\n",
      "EXO-RunIISummer20UL18wmLHEGEN-03602 revision clash\n",
      "EXO-RunIISummer20UL18wmLHEGEN-03603 revision clash\n",
      "EXO-RunIISummer20UL18wmLHEGEN-03604 revision clash\n",
      "EXO-RunIISummer20UL18wmLHEGEN-03605 revision clash\n",
      "EXO-RunIISummer20UL18wmLHEGEN-03606 revision clash\n",
      "EXO-RunIISummer20UL18wmLHEGEN-03607 revision clash\n",
      "EXO-RunIISummer20UL18wmLHEGEN-03608 revision clash\n",
      "EXO-RunIISummer20UL18wmLHEGEN-03614 revision clash\n",
      "EXO-RunIISummer20UL18wmLHEGEN-03615 revision clash\n",
      "EXO-RunIISummer20UL18wmLHEGEN-03616 revision clash\n",
      "EXO-RunIISummer20UL18wmLHEGEN-03617 revision clash\n",
      "EXO-RunIISummer20UL18wmLHEGEN-03618 revision clash\n",
      "EXO-RunIISummer20UL18wmLHEGEN-03624 revision clash\n",
      "EXO-RunIISummer20UL18wmLHEGEN-03625 revision clash\n",
      "EXO-RunIISummer20UL18wmLHEGEN-03626 revision clash\n",
      "EXO-RunIISummer20UL18wmLHEGEN-03628 revision clash\n",
      "EXO-RunIISummer20UL18wmLHEGEN-03629 revision clash\n",
      "EXO-RunIISummer20UL18wmLHEGEN-03630 revision clash\n",
      "EXO-RunIISummer20UL18wmLHEGEN-03633 revision clash\n",
      "EXO-RunIISummer20UL18wmLHEGEN-03637 revision clash\n",
      "EXO-RunIISummer20UL18wmLHEGEN-03638 revision clash\n"
     ]
    }
   ],
   "source": [
    "for r in results:\n",
    "    output = mcm.update('requests', r)\n",
    "    if output['results'] == False:\n",
    "        print(r['_id'],output['message'])"
   ]
  },
  {
   "cell_type": "code",
   "execution_count": 10,
   "metadata": {},
   "outputs": [],
   "source": [
    "time = set()\n",
    "for r in results:\n",
    "    time.add(r['time_event'][0])"
   ]
  },
  {
   "cell_type": "code",
   "execution_count": 11,
   "metadata": {},
   "outputs": [
    {
     "data": {
      "text/plain": [
       "{5}"
      ]
     },
     "execution_count": 11,
     "metadata": {},
     "output_type": "execute_result"
    }
   ],
   "source": [
    "time"
   ]
  }
 ],
 "metadata": {
  "kernelspec": {
   "display_name": "Python 3.9.6 64-bit",
   "language": "python",
   "name": "python3"
  },
  "language_info": {
   "codemirror_mode": {
    "name": "ipython",
    "version": 3
   },
   "file_extension": ".py",
   "mimetype": "text/x-python",
   "name": "python",
   "nbconvert_exporter": "python",
   "pygments_lexer": "ipython3",
   "version": "3.9.6"
  },
  "orig_nbformat": 4,
  "vscode": {
   "interpreter": {
    "hash": "bc8653c37afde981a02f518cc5ed66e36d68f5e1c41895fdf66da08341e86c45"
   }
  }
 },
 "nbformat": 4,
 "nbformat_minor": 2
}
