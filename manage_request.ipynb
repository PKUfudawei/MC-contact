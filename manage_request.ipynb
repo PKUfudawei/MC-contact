{
 "cells": [
  {
   "cell_type": "code",
   "execution_count": 2,
   "metadata": {},
   "outputs": [],
   "source": [
    "import sys\n",
    "import os\n",
    "import pandas as pd\n",
    "sys.path.append('/afs/cern.ch/cms/PPD/PdmV/tools/McM/')\n",
    "from rest import McM"
   ]
  },
  {
   "attachments": {},
   "cell_type": "markdown",
   "metadata": {},
   "source": [
    "### McM scripting [tutorial](https://indico.cern.ch/event/894961/contributions/3774016/attachments/2005333/3349474/McM_Scripting_2020_03_18.pdf)\n",
    "### Documentation: [restapi](https://cms-pdmv.cern.ch/mcm/restapi)"
   ]
  },
  {
   "cell_type": "code",
   "execution_count": 3,
   "metadata": {},
   "outputs": [
    {
     "name": "stderr",
     "output_type": "stream",
     "text": [
      "[2023-01-18 18:49:14,817][INFO] Using SSO cookie file /afs/cern.ch/user/d/dfu/private/mcm-prod-cookie.txt\n",
      "[2023-01-18 18:49:15,059][WARNING] Most likely SSO cookie is expired, will remake it after 1 seconds\n",
      "[2023-01-18 18:49:17,036][INFO] Using SSO cookie file /afs/cern.ch/user/d/dfu/private/mcm-prod-cookie.txt\n"
     ]
    },
    {
     "data": {
      "text/plain": [
       "71"
      ]
     },
     "execution_count": 3,
     "metadata": {},
     "output_type": "execute_result"
    }
   ],
   "source": [
    "mcm = McM(dev=False)\n",
    "tags = '20221212_ali_SMS_N2N3'\n",
    "results = mcm.get('requests', query=f'tags={tags}&status=new')\n",
    "len(results)"
   ]
  },
  {
   "cell_type": "code",
   "execution_count": 22,
   "metadata": {},
   "outputs": [],
   "source": [
    "CLEAR=False\n",
    "if CLEAR:\n",
    "    for r in results:\n",
    "        mcm.delete(object_type='requests', object_id=r['_id'])"
   ]
  },
  {
   "cell_type": "code",
   "execution_count": 21,
   "metadata": {},
   "outputs": [
    {
     "data": {
      "text/plain": [
       "'1000'"
      ]
     },
     "execution_count": 21,
     "metadata": {},
     "output_type": "execute_result"
    }
   ],
   "source": [
    "results[0]['dataset_name'].split('_M')[1].split('_')[0]"
   ]
  },
  {
   "cell_type": "code",
   "execution_count": 23,
   "metadata": {},
   "outputs": [
    {
     "data": {
      "text/plain": [
       "('1000',\n",
       " '/cvmfs/cms.cern.ch/phys_generator/gridpacks/2017/13TeV/madgraph/V5_2.4.2/sus_sms/LO_PDF/SMS-N2N3/v1/SMS-N2N3_mN-%i_slc6_amd64_gcc481_CMSSW_7_1_30_tarball.tar.xz')"
      ]
     },
     "execution_count": 23,
     "metadata": {},
     "output_type": "execute_result"
    }
   ],
   "source": [
    "results[0]['dataset_name'].split('_M')[1].split('_')[0], results[0]['fragment'].split(\"GRIDPACK = \\'\")[1].split(\"\\' %\")[0]"
   ]
  },
  {
   "cell_type": "code",
   "execution_count": 25,
   "metadata": {},
   "outputs": [
    {
     "name": "stdout",
     "output_type": "stream",
     "text": [
      "1000 /cvmfs/cms.cern.ch/phys_generator/gridpacks/2017/13TeV/madgraph/V5_2.4.2/sus_sms/LO_PDF/SMS-N2N3/v1/SMS-N2N3_mN-%i_slc6_amd64_gcc481_CMSSW_7_1_30_tarball.tar.xz\n",
      "1000 /cvmfs/cms.cern.ch/phys_generator/gridpacks/2017/13TeV/madgraph/V5_2.4.2/sus_sms/LO_PDF/SMS-N2N3/v1/SMS-N2N3_mN-%i_slc6_amd64_gcc481_CMSSW_7_1_30_tarball.tar.xz\n",
      "1000 /cvmfs/cms.cern.ch/phys_generator/gridpacks/2017/13TeV/madgraph/V5_2.4.2/sus_sms/LO_PDF/SMS-N2N3/v1/SMS-N2N3_mN-%i_slc6_amd64_gcc481_CMSSW_7_1_30_tarball.tar.xz\n",
      "1000 /cvmfs/cms.cern.ch/phys_generator/gridpacks/2017/13TeV/madgraph/V5_2.4.2/sus_sms/LO_PDF/SMS-N2N3/v1/SMS-N2N3_mN-%i_slc6_amd64_gcc481_CMSSW_7_1_30_tarball.tar.xz\n",
      "1000 /cvmfs/cms.cern.ch/phys_generator/gridpacks/2017/13TeV/madgraph/V5_2.4.2/sus_sms/LO_PDF/SMS-N2N3/v1/SMS-N2N3_mN-%i_slc6_amd64_gcc481_CMSSW_7_1_30_tarball.tar.xz\n",
      "1200 /cvmfs/cms.cern.ch/phys_generator/gridpacks/2017/13TeV/madgraph/V5_2.4.2/sus_sms/LO_PDF/SMS-N2N3/v1/SMS-N2N3_mN-%i_slc6_amd64_gcc481_CMSSW_7_1_30_tarball.tar.xz\n",
      "1200 /cvmfs/cms.cern.ch/phys_generator/gridpacks/2017/13TeV/madgraph/V5_2.4.2/sus_sms/LO_PDF/SMS-N2N3/v1/SMS-N2N3_mN-%i_slc6_amd64_gcc481_CMSSW_7_1_30_tarball.tar.xz\n",
      "1200 /cvmfs/cms.cern.ch/phys_generator/gridpacks/2017/13TeV/madgraph/V5_2.4.2/sus_sms/LO_PDF/SMS-N2N3/v1/SMS-N2N3_mN-%i_slc6_amd64_gcc481_CMSSW_7_1_30_tarball.tar.xz\n",
      "1200 /cvmfs/cms.cern.ch/phys_generator/gridpacks/2017/13TeV/madgraph/V5_2.4.2/sus_sms/LO_PDF/SMS-N2N3/v1/SMS-N2N3_mN-%i_slc6_amd64_gcc481_CMSSW_7_1_30_tarball.tar.xz\n",
      "1200 /cvmfs/cms.cern.ch/phys_generator/gridpacks/2017/13TeV/madgraph/V5_2.4.2/sus_sms/LO_PDF/SMS-N2N3/v1/SMS-N2N3_mN-%i_slc6_amd64_gcc481_CMSSW_7_1_30_tarball.tar.xz\n",
      "1400 /cvmfs/cms.cern.ch/phys_generator/gridpacks/2017/13TeV/madgraph/V5_2.4.2/sus_sms/LO_PDF/SMS-N2N3/v1/SMS-N2N3_mN-%i_slc6_amd64_gcc481_CMSSW_7_1_30_tarball.tar.xz\n",
      "1400 /cvmfs/cms.cern.ch/phys_generator/gridpacks/2017/13TeV/madgraph/V5_2.4.2/sus_sms/LO_PDF/SMS-N2N3/v1/SMS-N2N3_mN-%i_slc6_amd64_gcc481_CMSSW_7_1_30_tarball.tar.xz\n",
      "1400 /cvmfs/cms.cern.ch/phys_generator/gridpacks/2017/13TeV/madgraph/V5_2.4.2/sus_sms/LO_PDF/SMS-N2N3/v1/SMS-N2N3_mN-%i_slc6_amd64_gcc481_CMSSW_7_1_30_tarball.tar.xz\n",
      "1400 /cvmfs/cms.cern.ch/phys_generator/gridpacks/2017/13TeV/madgraph/V5_2.4.2/sus_sms/LO_PDF/SMS-N2N3/v1/SMS-N2N3_mN-%i_slc6_amd64_gcc481_CMSSW_7_1_30_tarball.tar.xz\n",
      "1400 /cvmfs/cms.cern.ch/phys_generator/gridpacks/2017/13TeV/madgraph/V5_2.4.2/sus_sms/LO_PDF/SMS-N2N3/v1/SMS-N2N3_mN-%i_slc6_amd64_gcc481_CMSSW_7_1_30_tarball.tar.xz\n",
      "400 /cvmfs/cms.cern.ch/phys_generator/gridpacks/2017/13TeV/madgraph/V5_2.4.2/sus_sms/LO_PDF/SMS-N2N3/v1/SMS-N2N3_mN-%i_slc6_amd64_gcc481_CMSSW_7_1_30_tarball.tar.xz\n",
      "600 /cvmfs/cms.cern.ch/phys_generator/gridpacks/2017/13TeV/madgraph/V5_2.4.2/sus_sms/LO_PDF/SMS-N2N3/v1/SMS-N2N3_mN-%i_slc6_amd64_gcc481_CMSSW_7_1_30_tarball.tar.xz\n",
      "600 /cvmfs/cms.cern.ch/phys_generator/gridpacks/2017/13TeV/madgraph/V5_2.4.2/sus_sms/LO_PDF/SMS-N2N3/v1/SMS-N2N3_mN-%i_slc6_amd64_gcc481_CMSSW_7_1_30_tarball.tar.xz\n",
      "800 /cvmfs/cms.cern.ch/phys_generator/gridpacks/2017/13TeV/madgraph/V5_2.4.2/sus_sms/LO_PDF/SMS-N2N3/v1/SMS-N2N3_mN-%i_slc6_amd64_gcc481_CMSSW_7_1_30_tarball.tar.xz\n",
      "1000 /cvmfs/cms.cern.ch/phys_generator/gridpacks/2017/13TeV/madgraph/V5_2.4.2/sus_sms/LO_PDF/SMS-N2N3/v1/SMS-N2N3_mN-%i_slc6_amd64_gcc481_CMSSW_7_1_30_tarball.tar.xz\n",
      "1000 /cvmfs/cms.cern.ch/phys_generator/gridpacks/2017/13TeV/madgraph/V5_2.4.2/sus_sms/LO_PDF/SMS-N2N3/v1/SMS-N2N3_mN-%i_slc6_amd64_gcc481_CMSSW_7_1_30_tarball.tar.xz\n",
      "1000 /cvmfs/cms.cern.ch/phys_generator/gridpacks/2017/13TeV/madgraph/V5_2.4.2/sus_sms/LO_PDF/SMS-N2N3/v1/SMS-N2N3_mN-%i_slc6_amd64_gcc481_CMSSW_7_1_30_tarball.tar.xz\n",
      "1000 /cvmfs/cms.cern.ch/phys_generator/gridpacks/2017/13TeV/madgraph/V5_2.4.2/sus_sms/LO_PDF/SMS-N2N3/v1/SMS-N2N3_mN-%i_slc6_amd64_gcc481_CMSSW_7_1_30_tarball.tar.xz\n",
      "1000 /cvmfs/cms.cern.ch/phys_generator/gridpacks/2017/13TeV/madgraph/V5_2.4.2/sus_sms/LO_PDF/SMS-N2N3/v1/SMS-N2N3_mN-%i_slc6_amd64_gcc481_CMSSW_7_1_30_tarball.tar.xz\n",
      "1200 /cvmfs/cms.cern.ch/phys_generator/gridpacks/2017/13TeV/madgraph/V5_2.4.2/sus_sms/LO_PDF/SMS-N2N3/v1/SMS-N2N3_mN-%i_slc6_amd64_gcc481_CMSSW_7_1_30_tarball.tar.xz\n",
      "1200 /cvmfs/cms.cern.ch/phys_generator/gridpacks/2017/13TeV/madgraph/V5_2.4.2/sus_sms/LO_PDF/SMS-N2N3/v1/SMS-N2N3_mN-%i_slc6_amd64_gcc481_CMSSW_7_1_30_tarball.tar.xz\n",
      "1200 /cvmfs/cms.cern.ch/phys_generator/gridpacks/2017/13TeV/madgraph/V5_2.4.2/sus_sms/LO_PDF/SMS-N2N3/v1/SMS-N2N3_mN-%i_slc6_amd64_gcc481_CMSSW_7_1_30_tarball.tar.xz\n",
      "1200 /cvmfs/cms.cern.ch/phys_generator/gridpacks/2017/13TeV/madgraph/V5_2.4.2/sus_sms/LO_PDF/SMS-N2N3/v1/SMS-N2N3_mN-%i_slc6_amd64_gcc481_CMSSW_7_1_30_tarball.tar.xz\n",
      "1400 /cvmfs/cms.cern.ch/phys_generator/gridpacks/2017/13TeV/madgraph/V5_2.4.2/sus_sms/LO_PDF/SMS-N2N3/v1/SMS-N2N3_mN-%i_slc6_amd64_gcc481_CMSSW_7_1_30_tarball.tar.xz\n",
      "1400 /cvmfs/cms.cern.ch/phys_generator/gridpacks/2017/13TeV/madgraph/V5_2.4.2/sus_sms/LO_PDF/SMS-N2N3/v1/SMS-N2N3_mN-%i_slc6_amd64_gcc481_CMSSW_7_1_30_tarball.tar.xz\n",
      "1400 /cvmfs/cms.cern.ch/phys_generator/gridpacks/2017/13TeV/madgraph/V5_2.4.2/sus_sms/LO_PDF/SMS-N2N3/v1/SMS-N2N3_mN-%i_slc6_amd64_gcc481_CMSSW_7_1_30_tarball.tar.xz\n",
      "1400 /cvmfs/cms.cern.ch/phys_generator/gridpacks/2017/13TeV/madgraph/V5_2.4.2/sus_sms/LO_PDF/SMS-N2N3/v1/SMS-N2N3_mN-%i_slc6_amd64_gcc481_CMSSW_7_1_30_tarball.tar.xz\n",
      "1400 /cvmfs/cms.cern.ch/phys_generator/gridpacks/2017/13TeV/madgraph/V5_2.4.2/sus_sms/LO_PDF/SMS-N2N3/v1/SMS-N2N3_mN-%i_slc6_amd64_gcc481_CMSSW_7_1_30_tarball.tar.xz\n",
      "600 /cvmfs/cms.cern.ch/phys_generator/gridpacks/2017/13TeV/madgraph/V5_2.4.2/sus_sms/LO_PDF/SMS-N2N3/v1/SMS-N2N3_mN-%i_slc6_amd64_gcc481_CMSSW_7_1_30_tarball.tar.xz\n",
      "600 /cvmfs/cms.cern.ch/phys_generator/gridpacks/2017/13TeV/madgraph/V5_2.4.2/sus_sms/LO_PDF/SMS-N2N3/v1/SMS-N2N3_mN-%i_slc6_amd64_gcc481_CMSSW_7_1_30_tarball.tar.xz\n",
      "600 /cvmfs/cms.cern.ch/phys_generator/gridpacks/2017/13TeV/madgraph/V5_2.4.2/sus_sms/LO_PDF/SMS-N2N3/v1/SMS-N2N3_mN-%i_slc6_amd64_gcc481_CMSSW_7_1_30_tarball.tar.xz\n",
      "800 /cvmfs/cms.cern.ch/phys_generator/gridpacks/2017/13TeV/madgraph/V5_2.4.2/sus_sms/LO_PDF/SMS-N2N3/v1/SMS-N2N3_mN-%i_slc6_amd64_gcc481_CMSSW_7_1_30_tarball.tar.xz\n",
      "1000 /cvmfs/cms.cern.ch/phys_generator/gridpacks/2017/13TeV/madgraph/V5_2.4.2/sus_sms/LO_PDF/SMS-N2N3/v1/SMS-N2N3_mN-%i_slc6_amd64_gcc481_CMSSW_7_1_30_tarball.tar.xz\n",
      "1000 /cvmfs/cms.cern.ch/phys_generator/gridpacks/2017/13TeV/madgraph/V5_2.4.2/sus_sms/LO_PDF/SMS-N2N3/v1/SMS-N2N3_mN-%i_slc6_amd64_gcc481_CMSSW_7_1_30_tarball.tar.xz\n",
      "1000 /cvmfs/cms.cern.ch/phys_generator/gridpacks/2017/13TeV/madgraph/V5_2.4.2/sus_sms/LO_PDF/SMS-N2N3/v1/SMS-N2N3_mN-%i_slc6_amd64_gcc481_CMSSW_7_1_30_tarball.tar.xz\n",
      "1000 /cvmfs/cms.cern.ch/phys_generator/gridpacks/2017/13TeV/madgraph/V5_2.4.2/sus_sms/LO_PDF/SMS-N2N3/v1/SMS-N2N3_mN-%i_slc6_amd64_gcc481_CMSSW_7_1_30_tarball.tar.xz\n",
      "1000 /cvmfs/cms.cern.ch/phys_generator/gridpacks/2017/13TeV/madgraph/V5_2.4.2/sus_sms/LO_PDF/SMS-N2N3/v1/SMS-N2N3_mN-%i_slc6_amd64_gcc481_CMSSW_7_1_30_tarball.tar.xz\n",
      "1200 /cvmfs/cms.cern.ch/phys_generator/gridpacks/2017/13TeV/madgraph/V5_2.4.2/sus_sms/LO_PDF/SMS-N2N3/v1/SMS-N2N3_mN-%i_slc6_amd64_gcc481_CMSSW_7_1_30_tarball.tar.xz\n",
      "1200 /cvmfs/cms.cern.ch/phys_generator/gridpacks/2017/13TeV/madgraph/V5_2.4.2/sus_sms/LO_PDF/SMS-N2N3/v1/SMS-N2N3_mN-%i_slc6_amd64_gcc481_CMSSW_7_1_30_tarball.tar.xz\n",
      "1200 /cvmfs/cms.cern.ch/phys_generator/gridpacks/2017/13TeV/madgraph/V5_2.4.2/sus_sms/LO_PDF/SMS-N2N3/v1/SMS-N2N3_mN-%i_slc6_amd64_gcc481_CMSSW_7_1_30_tarball.tar.xz\n",
      "1200 /cvmfs/cms.cern.ch/phys_generator/gridpacks/2017/13TeV/madgraph/V5_2.4.2/sus_sms/LO_PDF/SMS-N2N3/v1/SMS-N2N3_mN-%i_slc6_amd64_gcc481_CMSSW_7_1_30_tarball.tar.xz\n",
      "1200 /cvmfs/cms.cern.ch/phys_generator/gridpacks/2017/13TeV/madgraph/V5_2.4.2/sus_sms/LO_PDF/SMS-N2N3/v1/SMS-N2N3_mN-%i_slc6_amd64_gcc481_CMSSW_7_1_30_tarball.tar.xz\n",
      "1400 /cvmfs/cms.cern.ch/phys_generator/gridpacks/2017/13TeV/madgraph/V5_2.4.2/sus_sms/LO_PDF/SMS-N2N3/v1/SMS-N2N3_mN-%i_slc6_amd64_gcc481_CMSSW_7_1_30_tarball.tar.xz\n",
      "1400 /cvmfs/cms.cern.ch/phys_generator/gridpacks/2017/13TeV/madgraph/V5_2.4.2/sus_sms/LO_PDF/SMS-N2N3/v1/SMS-N2N3_mN-%i_slc6_amd64_gcc481_CMSSW_7_1_30_tarball.tar.xz\n",
      "1400 /cvmfs/cms.cern.ch/phys_generator/gridpacks/2017/13TeV/madgraph/V5_2.4.2/sus_sms/LO_PDF/SMS-N2N3/v1/SMS-N2N3_mN-%i_slc6_amd64_gcc481_CMSSW_7_1_30_tarball.tar.xz\n",
      "1400 /cvmfs/cms.cern.ch/phys_generator/gridpacks/2017/13TeV/madgraph/V5_2.4.2/sus_sms/LO_PDF/SMS-N2N3/v1/SMS-N2N3_mN-%i_slc6_amd64_gcc481_CMSSW_7_1_30_tarball.tar.xz\n",
      "1400 /cvmfs/cms.cern.ch/phys_generator/gridpacks/2017/13TeV/madgraph/V5_2.4.2/sus_sms/LO_PDF/SMS-N2N3/v1/SMS-N2N3_mN-%i_slc6_amd64_gcc481_CMSSW_7_1_30_tarball.tar.xz\n",
      "400 /cvmfs/cms.cern.ch/phys_generator/gridpacks/2017/13TeV/madgraph/V5_2.4.2/sus_sms/LO_PDF/SMS-N2N3/v1/SMS-N2N3_mN-%i_slc6_amd64_gcc481_CMSSW_7_1_30_tarball.tar.xz\n",
      "600 /cvmfs/cms.cern.ch/phys_generator/gridpacks/2017/13TeV/madgraph/V5_2.4.2/sus_sms/LO_PDF/SMS-N2N3/v1/SMS-N2N3_mN-%i_slc6_amd64_gcc481_CMSSW_7_1_30_tarball.tar.xz\n",
      "800 /cvmfs/cms.cern.ch/phys_generator/gridpacks/2017/13TeV/madgraph/V5_2.4.2/sus_sms/LO_PDF/SMS-N2N3/v1/SMS-N2N3_mN-%i_slc6_amd64_gcc481_CMSSW_7_1_30_tarball.tar.xz\n",
      "1000 /cvmfs/cms.cern.ch/phys_generator/gridpacks/2017/13TeV/madgraph/V5_2.4.2/sus_sms/LO_PDF/SMS-N2N3/v1/SMS-N2N3_mN-%i_slc6_amd64_gcc481_CMSSW_7_1_30_tarball.tar.xz\n",
      "1000 /cvmfs/cms.cern.ch/phys_generator/gridpacks/2017/13TeV/madgraph/V5_2.4.2/sus_sms/LO_PDF/SMS-N2N3/v1/SMS-N2N3_mN-%i_slc6_amd64_gcc481_CMSSW_7_1_30_tarball.tar.xz\n",
      "1000 /cvmfs/cms.cern.ch/phys_generator/gridpacks/2017/13TeV/madgraph/V5_2.4.2/sus_sms/LO_PDF/SMS-N2N3/v1/SMS-N2N3_mN-%i_slc6_amd64_gcc481_CMSSW_7_1_30_tarball.tar.xz\n",
      "1200 /cvmfs/cms.cern.ch/phys_generator/gridpacks/2017/13TeV/madgraph/V5_2.4.2/sus_sms/LO_PDF/SMS-N2N3/v1/SMS-N2N3_mN-%i_slc6_amd64_gcc481_CMSSW_7_1_30_tarball.tar.xz\n",
      "1200 /cvmfs/cms.cern.ch/phys_generator/gridpacks/2017/13TeV/madgraph/V5_2.4.2/sus_sms/LO_PDF/SMS-N2N3/v1/SMS-N2N3_mN-%i_slc6_amd64_gcc481_CMSSW_7_1_30_tarball.tar.xz\n",
      "1200 /cvmfs/cms.cern.ch/phys_generator/gridpacks/2017/13TeV/madgraph/V5_2.4.2/sus_sms/LO_PDF/SMS-N2N3/v1/SMS-N2N3_mN-%i_slc6_amd64_gcc481_CMSSW_7_1_30_tarball.tar.xz\n",
      "1200 /cvmfs/cms.cern.ch/phys_generator/gridpacks/2017/13TeV/madgraph/V5_2.4.2/sus_sms/LO_PDF/SMS-N2N3/v1/SMS-N2N3_mN-%i_slc6_amd64_gcc481_CMSSW_7_1_30_tarball.tar.xz\n",
      "1200 /cvmfs/cms.cern.ch/phys_generator/gridpacks/2017/13TeV/madgraph/V5_2.4.2/sus_sms/LO_PDF/SMS-N2N3/v1/SMS-N2N3_mN-%i_slc6_amd64_gcc481_CMSSW_7_1_30_tarball.tar.xz\n",
      "1400 /cvmfs/cms.cern.ch/phys_generator/gridpacks/2017/13TeV/madgraph/V5_2.4.2/sus_sms/LO_PDF/SMS-N2N3/v1/SMS-N2N3_mN-%i_slc6_amd64_gcc481_CMSSW_7_1_30_tarball.tar.xz\n",
      "1400 /cvmfs/cms.cern.ch/phys_generator/gridpacks/2017/13TeV/madgraph/V5_2.4.2/sus_sms/LO_PDF/SMS-N2N3/v1/SMS-N2N3_mN-%i_slc6_amd64_gcc481_CMSSW_7_1_30_tarball.tar.xz\n",
      "1400 /cvmfs/cms.cern.ch/phys_generator/gridpacks/2017/13TeV/madgraph/V5_2.4.2/sus_sms/LO_PDF/SMS-N2N3/v1/SMS-N2N3_mN-%i_slc6_amd64_gcc481_CMSSW_7_1_30_tarball.tar.xz\n",
      "1400 /cvmfs/cms.cern.ch/phys_generator/gridpacks/2017/13TeV/madgraph/V5_2.4.2/sus_sms/LO_PDF/SMS-N2N3/v1/SMS-N2N3_mN-%i_slc6_amd64_gcc481_CMSSW_7_1_30_tarball.tar.xz\n",
      "1400 /cvmfs/cms.cern.ch/phys_generator/gridpacks/2017/13TeV/madgraph/V5_2.4.2/sus_sms/LO_PDF/SMS-N2N3/v1/SMS-N2N3_mN-%i_slc6_amd64_gcc481_CMSSW_7_1_30_tarball.tar.xz\n",
      "600 /cvmfs/cms.cern.ch/phys_generator/gridpacks/2017/13TeV/madgraph/V5_2.4.2/sus_sms/LO_PDF/SMS-N2N3/v1/SMS-N2N3_mN-%i_slc6_amd64_gcc481_CMSSW_7_1_30_tarball.tar.xz\n",
      "800 /cvmfs/cms.cern.ch/phys_generator/gridpacks/2017/13TeV/madgraph/V5_2.4.2/sus_sms/LO_PDF/SMS-N2N3/v1/SMS-N2N3_mN-%i_slc6_amd64_gcc481_CMSSW_7_1_30_tarball.tar.xz\n",
      "800 /cvmfs/cms.cern.ch/phys_generator/gridpacks/2017/13TeV/madgraph/V5_2.4.2/sus_sms/LO_PDF/SMS-N2N3/v1/SMS-N2N3_mN-%i_slc6_amd64_gcc481_CMSSW_7_1_30_tarball.tar.xz\n"
     ]
    }
   ],
   "source": [
    "for r in results:\n",
    "    #r['time_event'] = [5]\n",
    "    #r['size_event'] = [600]\n",
    "    print(r['dataset_name'].split('_M')[1].split('_')[0], r['fragment'].split(\"GRIDPACK = \\'\")[1].split(\"\\' %\")[0])"
   ]
  },
  {
   "cell_type": "code",
   "execution_count": 25,
   "metadata": {},
   "outputs": [
    {
     "data": {
      "text/plain": [
       "[75]"
      ]
     },
     "execution_count": 25,
     "metadata": {},
     "output_type": "execute_result"
    }
   ],
   "source": [
    "results[0]['time_event']"
   ]
  },
  {
   "cell_type": "code",
   "execution_count": 26,
   "metadata": {},
   "outputs": [],
   "source": [
    "for r in results:\n",
    "    output = mcm.update('requests', r)\n",
    "    if output['results'] == False:\n",
    "        print(r['_id'],output['message'])"
   ]
  },
  {
   "cell_type": "code",
   "execution_count": 8,
   "metadata": {},
   "outputs": [
    {
     "data": {
      "text/plain": [
       "{50}"
      ]
     },
     "execution_count": 8,
     "metadata": {},
     "output_type": "execute_result"
    }
   ],
   "source": [
    "time = set()\n",
    "for r in results:\n",
    "    time.add(r['time_event'][0])\n",
    "time"
   ]
  },
  {
   "cell_type": "code",
   "execution_count": 11,
   "metadata": {},
   "outputs": [
    {
     "data": {
      "text/plain": [
       "{5}"
      ]
     },
     "execution_count": 11,
     "metadata": {},
     "output_type": "execute_result"
    }
   ],
   "source": []
  }
 ],
 "metadata": {
  "kernelspec": {
   "display_name": "Python 3.9.6 64-bit",
   "language": "python",
   "name": "python3"
  },
  "language_info": {
   "codemirror_mode": {
    "name": "ipython",
    "version": 3
   },
   "file_extension": ".py",
   "mimetype": "text/x-python",
   "name": "python",
   "nbconvert_exporter": "python",
   "pygments_lexer": "ipython3",
   "version": "3.9.6"
  },
  "orig_nbformat": 4,
  "vscode": {
   "interpreter": {
    "hash": "bc8653c37afde981a02f518cc5ed66e36d68f5e1c41895fdf66da08341e86c45"
   }
  }
 },
 "nbformat": 4,
 "nbformat_minor": 2
}
