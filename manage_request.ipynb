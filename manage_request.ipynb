{
 "cells": [
  {
   "cell_type": "code",
   "execution_count": 1,
   "metadata": {},
   "outputs": [],
   "source": [
    "from rest.applications.mcm.core import McM"
   ]
  },
  {
   "cell_type": "markdown",
   "metadata": {},
   "source": [
    "# Get requests"
   ]
  },
  {
   "cell_type": "code",
   "execution_count": null,
   "metadata": {},
   "outputs": [
    {
     "name": "stdout",
     "output_type": "stream",
     "text": [
      "[2025-09-18 18:26:58 +0200][INFO][pdmv-http-client.mcm]: Setting default credential's path (/afs/cern.ch/user/d/dfu/private/mcm-credential-prod)\n"
     ]
    }
   ],
   "source": [
    "mcm = McM(id='oidc', dev=False)\n",
    "tags = '20241014_pvaucell_Zto2SmuTo2Mu2ChiTo2Top2Stop'\n",
    "\n",
    "results = mcm.get('requests', query=f'tags={tags}&approval=none')\n",
    "len(results)"
   ]
  },
  {
   "cell_type": "markdown",
   "metadata": {},
   "source": [
    "# Edit"
   ]
  },
  {
   "cell_type": "code",
   "execution_count": 4,
   "metadata": {},
   "outputs": [],
   "source": [
    "for r in results:\n",
    "    #if r['dataset_name'].split('_')[1] in ('MStau-100', 'MStau-400'):\n",
    "    #    r['tags'].append('20231211_fiorendi_GMSB_staus_to_taus_high_priority')\n",
    "    #r['member_of_campaign'] = r['member_of_campaign'].replace('wmLHEGEN', 'GEN')\n",
    "    #if 'el9_amd64_gcc11_CMSSW_13_2_9' in r['fragment']:\n",
    "    #    count += 1\n",
    "    #r['fragment'] = r['fragment'].replace(\"ffrom Configuration.Generator.MCTunesRun3ECM13p6TeV.PythiaCP5Settings_cfi import *\", \"from Configuration.Generator.MCTunesRun3ECM13p6TeV.PythiaCP5Settings_cfi import *\")\n",
    "    r['time_event'] = [20]\n",
    "    #r['generator_parameters'] = [r['generator_parameters'][0]]\n",
    "    #r['generator_parameters'][0]['filter_efficiency'] = 0.4\n",
    "    #r['size_event'] = [130]\n",
    "    #r['generator_parameters'][0]['filter_efficiency'] = 0.58\n",
    "    #r['mcdb_id'] = 0\n",
    "    #r['tags'] = ['20231211_fiorendi_GMSB_staus_to_taus']\n",
    "    #print(r['dataset_name'].split('_M')[1].split('_')[0], r['fragment'].split(\"GRIDPACK = \\'\")[1].split(\"\\' %\")[0])"
   ]
  },
  {
   "cell_type": "code",
   "execution_count": 5,
   "metadata": {},
   "outputs": [],
   "source": [
    "for r in results:\n",
    "    output = mcm.update('requests', r)\n",
    "    if output['results'] == False:\n",
    "        print(r['_id'], output['message'])"
   ]
  },
  {
   "cell_type": "markdown",
   "metadata": {},
   "source": [
    "# Approve"
   ]
  },
  {
   "cell_type": "code",
   "execution_count": 13,
   "metadata": {},
   "outputs": [],
   "source": [
    "APPROVE = True\n",
    "if APPROVE:\n",
    "    for r in results:\n",
    "        mcm.approve('requests', r['_id'], 1)"
   ]
  },
  {
   "cell_type": "markdown",
   "metadata": {},
   "source": [
    "# Clear"
   ]
  },
  {
   "cell_type": "markdown",
   "metadata": {},
   "source": [
    "## delete requests"
   ]
  },
  {
   "cell_type": "code",
   "execution_count": 5,
   "metadata": {},
   "outputs": [],
   "source": [
    "CLEAR = True\n",
    "if CLEAR:\n",
    "    for r in results:\n",
    "        #mcm.reset(r['_id'])\n",
    "        mcm.delete(object_type='requests', object_id=r['_id'])"
   ]
  },
  {
   "cell_type": "markdown",
   "metadata": {},
   "source": [
    "## delete tickets"
   ]
  },
  {
   "cell_type": "code",
   "execution_count": null,
   "metadata": {},
   "outputs": [],
   "source": [
    "CLEAR = True\n",
    "\n",
    "for i in range(2, 7+1):\n",
    "    mcm = McM(dev=False)\n",
    "    if i < 10:\n",
    "        prepid = f'EXO-2024Dec11-0000{i}'\n",
    "    else:\n",
    "        prepid = f'EXO-2024Dec11-000{i}'\n",
    "    results = mcm.get('mccms', query=f'prepid={prepid}')\n",
    "\n",
    "\n",
    "    if CLEAR:\n",
    "        for r in results:\n",
    "            #mcm.reset(r['_id'])\n",
    "            mcm.delete(object_type='mccms', object_id=r['_id'])"
   ]
  },
  {
   "cell_type": "code",
   "execution_count": null,
   "metadata": {},
   "outputs": [],
   "source": []
  }
 ],
 "metadata": {
  "kernelspec": {
   "display_name": "Python 3",
   "language": "python",
   "name": "python3"
  },
  "language_info": {
   "codemirror_mode": {
    "name": "ipython",
    "version": 3
   },
   "file_extension": ".py",
   "mimetype": "text/x-python",
   "name": "python",
   "nbconvert_exporter": "python",
   "pygments_lexer": "ipython3",
   "version": "3.9.14"
  },
  "orig_nbformat": 4
 },
 "nbformat": 4,
 "nbformat_minor": 2
}
