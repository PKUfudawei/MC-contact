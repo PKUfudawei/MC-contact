{
 "cells": [
  {
   "cell_type": "code",
   "execution_count": 1,
   "metadata": {},
   "outputs": [],
   "source": [
    "import sys\n",
    "import os\n",
    "import pandas as pd\n",
    "sys.path.append('/afs/cern.ch/cms/PPD/PdmV/tools/McM/')\n",
    "from rest import McM"
   ]
  },
  {
   "attachments": {},
   "cell_type": "markdown",
   "metadata": {},
   "source": [
    "### McM scripting [tutorial](https://indico.cern.ch/event/894961/contributions/3774016/attachments/2005333/3349474/McM_Scripting_2020_03_18.pdf)\n",
    "### Documentation: [restapi](https://cms-pdmv.cern.ch/mcm/restapi)"
   ]
  },
  {
   "cell_type": "code",
   "execution_count": 2,
   "metadata": {},
   "outputs": [
    {
     "name": "stderr",
     "output_type": "stream",
     "text": [
      "[2023-04-26 17:03:48,678][INFO] Using SSO cookie file /afs/cern.ch/user/d/dfu/private/mcm-prod-cookie.txt\n",
      "[2023-04-26 17:03:48,915][WARNING] Most likely SSO cookie is expired, will remake it after 1 seconds\n",
      "[2023-04-26 17:03:51,093][INFO] Using SSO cookie file /afs/cern.ch/user/d/dfu/private/mcm-prod-cookie.txt\n"
     ]
    },
    {
     "data": {
      "text/plain": [
       "6"
      ]
     },
     "execution_count": 2,
     "metadata": {},
     "output_type": "execute_result"
    }
   ],
   "source": [
    "mcm = McM(dev=False)\n",
    "tags = '20230328_mkomm_HeavyNeutrino_dilepton'\n",
    "results = mcm.get('requests', query=f'tags={tags}&status=new&approval=none')\n",
    "len(results)"
   ]
  },
  {
   "cell_type": "code",
   "execution_count": 3,
   "metadata": {},
   "outputs": [],
   "source": [
    "CLEAR=False\n",
    "if CLEAR:\n",
    "    for r in results:\n",
    "        mcm.delete(object_type='requests', object_id=r['_id'])"
   ]
  },
  {
   "cell_type": "code",
   "execution_count": 3,
   "metadata": {},
   "outputs": [
    {
     "data": {
      "text/plain": [
       "'import FWCore.ParameterSet.Config as cms\\n\\nexternalLHEProducer = cms.EDProducer(\"ExternalLHEProducer\",\\n    args = cms.vstring(\\'/cvmfs/cms.cern.ch/phys_generator/gridpacks/pre2017/13TeV/madgraph/V5_2.6.5/HNL_majorana_all/HNL_majorana_all_ctau1p0e00_massHNL10p0_Vall1p177e-03_tarball.tar.xz\\'),\\n    nEvents = cms.untracked.uint32(5000),\\n    numberOfParameters = cms.uint32(1),\\n    outputFile = cms.string(\\'cmsgrid_final.lhe\\'),\\n    # generately = cms.untracked.bool(True),\\n    scriptName = cms.FileInPath(\\'GeneratorInterface/LHEInterface/data/run_generic_tarball_cvmfs.sh\\')\\n)\\n\\n# Link to cards:\\n# N/A\\n\\nimport FWCore.ParameterSet.Config as cms\\n\\nfrom Configuration.Generator.Pythia8CommonSettings_cfi import *\\nfrom Configuration.Generator.MCTunes2017.PythiaCP5Settings_cfi import *\\n\\ngenerator = cms.EDFilter(\"Pythia8HadronizerFilter\",\\n    maxEventsToPrint = cms.untracked.int32(1),\\n    pythiaPylistVerbosity = cms.untracked.int32(1),\\n    filterEfficiency = cms.untracked.double(1.0),\\n    pythiaHepMCVerbosity = cms.untracked.bool(False),\\n    comEnergy = cms.double(13000.),\\n    PythiaParameters = cms.PSet(\\n        pythia8CommonSettingsBlock,\\n        pythia8CP5SettingsBlock,\\n        parameterSets = cms.vstring(\\'pythia8CommonSettings\\',\\n                                    \\'pythia8CP5Settings\\',\\n                                    )\\n    )\\n)\\n\\nleptonFilter = cms.EDFilter(\"MCSingleParticleFilter\",\\n    MinPt = cms.untracked.vdouble([20.0,20.0,20.0,20.0]),\\n    ParticleID = cms.untracked.vint32([11,-11,13,-13]),\\n)\\n\\nProductionFilterSequence = cms.Sequence(generator+leptonFilter)\\n\\n\\n# Link to generator fragment:\\n# /afs/cern.ch/user/m/mkomm/work/public/HNL/HNL_gridpacks/genfragment_CP5_cfg.py\\n'"
      ]
     },
     "execution_count": 3,
     "metadata": {},
     "output_type": "execute_result"
    }
   ],
   "source": [
    "results[0]['fragment']"
   ]
  },
  {
   "cell_type": "code",
   "execution_count": 6,
   "metadata": {},
   "outputs": [
    {
     "data": {
      "text/plain": [
       "'import FWCore.ParameterSet.Config as cms\\n\\nexternalLHEProducer = cms.EDProducer(\"ExternalLHEProducer\",\\n    args = cms.vstring(\\'/cvmfs/cms.cern.ch/phys_generator/gridpacks/pre2017/13TeV/madgraph/V5_2.6.5/HNL_majorana_all/HNL_majorana_all_ctau1p0e00_massHNL10p0_Vall1p177e-03_tarball.tar.xz\\'),\\n    nEvents = cms.untracked.uint32(5000),\\n    numberOfParameters = cms.uint32(1),\\n    outputFile = cms.string(\\'cmsgrid_final.lhe\\'),\\n    generateConcurrently = cms.untracked.bool(False),\\n    scriptName = cms.FileInPath(\\'GeneratorInterface/LHEInterface/data/run_generic_tarball_cvmfs.sh\\')\\n)\\n\\n# Link to cards:\\n# N/A\\n\\nimport FWCore.ParameterSet.Config as cms\\n\\nfrom Configuration.Generator.Pythia8CommonSettings_cfi import *\\nfrom Configuration.Generator.MCTunes2017.PythiaCP5Settings_cfi import *\\n\\ngenerator = cms.EDFilter(\"Pythia8HadronizerFilter\",\\n    maxEventsToPrint = cms.untracked.int32(1),\\n    pythiaPylistVerbosity = cms.untracked.int32(1),\\n    filterEfficiency = cms.untracked.double(1.0),\\n    pythiaHepMCVerbosity = cms.untracked.bool(False),\\n    comEnergy = cms.double(13000.),\\n    PythiaParameters = cms.PSet(\\n        pythia8CommonSettingsBlock,\\n        pythia8CP5SettingsBlock,\\n        parameterSets = cms.vstring(\\'pythia8CommonSettings\\',\\n                                    \\'pythia8CP5Settings\\',\\n                                    )\\n    )\\n)\\n\\nleptonFilter = cms.EDFilter(\"MCSingleParticleFilter\",\\n    MinPt = cms.untracked.vdouble([20.0,20.0,20.0,20.0]),\\n    ParticleID = cms.untracked.vint32([11,-11,13,-13]),\\n)\\n\\nProductionFilterSequence = cms.Sequence(generator+leptonFilter)\\n\\n\\n# Link to generator fragment:\\n# /afs/cern.ch/user/m/mkomm/work/public/HNL/HNL_gridpacks/genfragment_CP5_cfg.py\\n'"
      ]
     },
     "execution_count": 6,
     "metadata": {},
     "output_type": "execute_result"
    }
   ],
   "source": [
    "results[2]['fragment']"
   ]
  },
  {
   "cell_type": "code",
   "execution_count": 3,
   "metadata": {},
   "outputs": [],
   "source": [
    "for r in results:\n",
    "    #r['fragment'] = r['fragment'].replace('generately', '# generately')\n",
    "    r['time_event'] = [9]\n",
    "    r['size_event'] = [535]\n",
    "    #r['mcdb_id'] = 0\n",
    "    #print(r['dataset_name'].split('_M')[1].split('_')[0], r['fragment'].split(\"GRIDPACK = \\'\")[1].split(\"\\' %\")[0])"
   ]
  },
  {
   "cell_type": "code",
   "execution_count": null,
   "metadata": {},
   "outputs": [],
   "source": [
    "for r in results:\n",
    "    output = mcm.update('requests', r)\n",
    "    if output['results'] == False:\n",
    "        print(r['_id'], output['message'])"
   ]
  },
  {
   "cell_type": "code",
   "execution_count": 8,
   "metadata": {},
   "outputs": [
    {
     "data": {
      "text/plain": [
       "{50}"
      ]
     },
     "execution_count": 8,
     "metadata": {},
     "output_type": "execute_result"
    }
   ],
   "source": [
    "time = set()\n",
    "for r in results:\n",
    "    time.add(r['time_event'][0])\n",
    "time"
   ]
  }
 ],
 "metadata": {
  "kernelspec": {
   "display_name": "Python 3.9.6 64-bit",
   "language": "python",
   "name": "python3"
  },
  "language_info": {
   "codemirror_mode": {
    "name": "ipython",
    "version": 3
   },
   "file_extension": ".py",
   "mimetype": "text/x-python",
   "name": "python",
   "nbconvert_exporter": "python",
   "pygments_lexer": "ipython3",
   "version": "3.9.6"
  },
  "orig_nbformat": 4,
  "vscode": {
   "interpreter": {
    "hash": "bc8653c37afde981a02f518cc5ed66e36d68f5e1c41895fdf66da08341e86c45"
   }
  }
 },
 "nbformat": 4,
 "nbformat_minor": 2
}
