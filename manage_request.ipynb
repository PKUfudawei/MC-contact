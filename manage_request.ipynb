{
 "cells": [
  {
   "cell_type": "markdown",
   "metadata": {},
   "source": [
    "- McM scripting [tutorial](https://indico.cern.ch/event/894961/contributions/3774016/attachments/2005333/3349474/McM_Scripting_2020_03_18.pdf)\n",
    "- Documentation: [restapi](https://cms-pdmv.cern.ch/mcm/restapi)"
   ]
  },
  {
   "cell_type": "code",
   "execution_count": 7,
   "metadata": {},
   "outputs": [],
   "source": [
    "import sys\n",
    "import os\n",
    "sys.path.append('/afs/cern.ch/cms/PPD/PdmV/tools/McM/')\n",
    "from rest import McM"
   ]
  },
  {
   "cell_type": "markdown",
   "metadata": {},
   "source": [
    "# Get requests"
   ]
  },
  {
   "cell_type": "code",
   "execution_count": 8,
   "metadata": {},
   "outputs": [
    {
     "name": "stderr",
     "output_type": "stream",
     "text": [
      "[2024-11-22 02:15:48,796][INFO] Using SSO cookie file /afs/cern.ch/user/d/dfu/private/mcm-prod-cookie.txt\n"
     ]
    },
    {
     "name": "stderr",
     "output_type": "stream",
     "text": [
      "[2024-11-22 02:15:49,817][WARNING] Python 3.X version currently used has reached its end of life or it will reach it in the near future.\n",
      "Please consider using a newer version. Python version: 3.9.19 (main, Sep 11 2024, 00:00:00) \n",
      "[GCC 11.5.0 20240719 (Red Hat 11.5.0-2)] \n",
      "\n"
     ]
    },
    {
     "data": {
      "text/plain": [
       "924"
      ]
     },
     "execution_count": 8,
     "metadata": {},
     "output_type": "execute_result"
    }
   ],
   "source": [
    "mcm = McM(dev=False)\n",
    "tags = '20241018_pvaucell_Zto2SmuTo2Mu2ChiTo2Top2Stop'\n",
    "results = mcm.get('requests', query=f'tags={tags}&approval=none')\n",
    "len(results)"
   ]
  },
  {
   "cell_type": "markdown",
   "metadata": {},
   "source": [
    "# Edit"
   ]
  },
  {
   "cell_type": "code",
   "execution_count": 3,
   "metadata": {},
   "outputs": [],
   "source": [
    "for r in results:\n",
    "    #if r['dataset_name'].split('_')[1] in ('MStau-100', 'MStau-400'):\n",
    "    #    r['tags'].append('20231211_fiorendi_GMSB_staus_to_taus_high_priority')\n",
    "    #r['member_of_campaign'] = r['member_of_campaign'].replace('wmLHEGEN', 'GEN')\n",
    "    #if 'el9_amd64_gcc11_CMSSW_13_2_9' in r['fragment']:\n",
    "    #    count += 1\n",
    "    #    r['fragment'] = r['fragment'].replace(\"el9_amd64_gcc11_CMSSW_13_2_9\", \"slc7_amd64_gcc10_CMSSW_12_4_8\")\n",
    "    #r['time_event'] = [2]\n",
    "    #r['generator_parameters'] = [r['generator_parameters'][0]]\n",
    "    #r['generator_parameters'][0]['filter_efficiency'] = 0.4\n",
    "    r['size_event'] = [131]\n",
    "    #r['mcdb_id'] = 0\n",
    "    #r['tags'] = ['20231211_fiorendi_GMSB_staus_to_taus']\n",
    "    #print(r['dataset_name'].split('_M')[1].split('_')[0], r['fragment'].split(\"GRIDPACK = \\'\")[1].split(\"\\' %\")[0])"
   ]
  },
  {
   "cell_type": "code",
   "execution_count": 4,
   "metadata": {},
   "outputs": [],
   "source": [
    "for r in results:\n",
    "    output = mcm.update('requests', r)\n",
    "    if output['results'] == False:\n",
    "        print(r['_id'], output['message'])"
   ]
  },
  {
   "cell_type": "markdown",
   "metadata": {},
   "source": [
    "# Approve"
   ]
  },
  {
   "cell_type": "code",
   "execution_count": 9,
   "metadata": {},
   "outputs": [],
   "source": [
    "APPROVE = True\n",
    "if APPROVE:\n",
    "    for r in results:\n",
    "        mcm.approve('requests', r['_id'], None)"
   ]
  },
  {
   "cell_type": "markdown",
   "metadata": {},
   "source": [
    "# Clear"
   ]
  },
  {
   "cell_type": "code",
   "execution_count": 6,
   "metadata": {},
   "outputs": [],
   "source": [
    "CLEAR = False\n",
    "if CLEAR:\n",
    "    for r in results:\n",
    "        #mcm.reset(r['_id'])\n",
    "        mcm.delete(object_type='requests', object_id=r['_id'])"
   ]
  },
  {
   "cell_type": "code",
   "execution_count": null,
   "metadata": {},
   "outputs": [],
   "source": []
  }
 ],
 "metadata": {
  "kernelspec": {
   "display_name": "Python 3 (ipykernel)",
   "language": "python",
   "name": "python3"
  },
  "language_info": {
   "codemirror_mode": {
    "name": "ipython",
    "version": 3
   },
   "file_extension": ".py",
   "mimetype": "text/x-python",
   "name": "python",
   "nbconvert_exporter": "python",
   "pygments_lexer": "ipython3",
   "version": "3.9.19"
  },
  "orig_nbformat": 4,
  "vscode": {
   "interpreter": {
    "hash": "bc8653c37afde981a02f518cc5ed66e36d68f5e1c41895fdf66da08341e86c45"
   }
  }
 },
 "nbformat": 4,
 "nbformat_minor": 2
}
