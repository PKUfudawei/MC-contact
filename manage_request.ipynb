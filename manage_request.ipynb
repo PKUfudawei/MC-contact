{
 "cells": [
  {
   "cell_type": "code",
   "execution_count": 1,
   "metadata": {},
   "outputs": [],
   "source": [
    "import sys\n",
    "import os\n",
    "import pandas as pd\n",
    "sys.path.append('/afs/cern.ch/cms/PPD/PdmV/tools/McM/')\n",
    "from rest import McM"
   ]
  },
  {
   "cell_type": "code",
   "execution_count": 16,
   "metadata": {},
   "outputs": [
    {
     "name": "stderr",
     "output_type": "stream",
     "text": [
      "[2022-12-18 00:53:43,333][INFO] Using SSO cookie file /afs/cern.ch/user/d/dfu/private/mcm-prod-cookie.txt\n",
      "[2022-12-18 00:53:43,588][WARNING] Most likely SSO cookie is expired, will remake it after 1 seconds\n",
      "[2022-12-18 00:53:45,481][INFO] Using SSO cookie file /afs/cern.ch/user/d/dfu/private/mcm-prod-cookie.txt\n"
     ]
    },
    {
     "data": {
      "text/plain": [
       "168"
      ]
     },
     "execution_count": 16,
     "metadata": {},
     "output_type": "execute_result"
    }
   ],
   "source": [
    "mcm = McM(dev=False)\n",
    "#mcm.get('requests', 'PPD-RunIIWinter19PFCalib17pLHE-00001', method='get')\n",
    "#mcm.get('requests', query='prepid=*-RunIIWinter19PFCalib17pLHE-*&status=new')\n",
    "results = mcm.get('requests', query='tags=20221207_vasarkis_WprimeToENu')\n",
    "len(results)"
   ]
  },
  {
   "cell_type": "code",
   "execution_count": 14,
   "metadata": {},
   "outputs": [],
   "source": [
    "CLEAR=False\n",
    "if CLEAR:\n",
    "    for r in results:\n",
    "        mcm.delete(object_type='requests', object_id=r['_id'])"
   ]
  },
  {
   "cell_type": "code",
   "execution_count": 18,
   "metadata": {},
   "outputs": [
    {
     "data": {
      "text/plain": [
       "{'total_events': 37500,\n",
       " 'config_id': [],\n",
       " 'events_per_lumi': 0,\n",
       " 'cmssw_release': 'CMSSW_12_4_11_patch3',\n",
       " 'mcdb_id': 0,\n",
       " 'transient_output_modules': [[]],\n",
       " 'sequences': [{'eventcontent': ['RAWSIM', 'LHE'],\n",
       "   'runsScenarioForMC': '',\n",
       "   'donotDropOnInput': '',\n",
       "   'extra': '',\n",
       "   'slhc': '',\n",
       "   'runsAndWeightsForMC': '',\n",
       "   'outputCommand': '',\n",
       "   'dropDescendant': False,\n",
       "   'pileup': '',\n",
       "   'hltProcess': '',\n",
       "   'index': -1,\n",
       "   'customise': '',\n",
       "   'custom_conditions': '',\n",
       "   'datatier': ['GEN-SIM', 'LHE'],\n",
       "   'processName': '',\n",
       "   'inputCommands': '',\n",
       "   'particle_table': '',\n",
       "   'conditions': '124X_mcRun3_2022_realistic_postEE_v1',\n",
       "   'harvesting': '',\n",
       "   'triggerResultsProcess': '',\n",
       "   'inputEventContent': '',\n",
       "   'beamspot': 'Run3RoundOptics25ns13TeVLowSigmaZ',\n",
       "   'restoreRNDSeeds': '',\n",
       "   'filtername': '',\n",
       "   'repacked': '',\n",
       "   'customise_commands': '',\n",
       "   'step': ['LHE', 'GEN', 'SIM'],\n",
       "   'gflash': '',\n",
       "   'procModifiers': '',\n",
       "   'magField': '',\n",
       "   'himix': False,\n",
       "   'nThreads': 1,\n",
       "   'scenario': '',\n",
       "   'geometry': 'DB:Extended',\n",
       "   'nStreams': 0,\n",
       "   'datamix': '',\n",
       "   'inline_custom': False,\n",
       "   'era': 'Run3'}],\n",
       " 'block_black_list': [],\n",
       " 'block_white_list': [],\n",
       " 'interested_pwg': ['EXO'],\n",
       " 'process_string': '',\n",
       " 'ppd_tags': [],\n",
       " 'fragment_tag': '',\n",
       " 'generator_parameters': [{'submission_details': {'submission_date': '2022-12-18-00-50',\n",
       "    'author_email': 'dawei.fu@cern.ch',\n",
       "    'author_username': 'dfu',\n",
       "    'author_name': 'Dawei Fu'},\n",
       "   'match_efficiency_error': 0,\n",
       "   'match_efficiency': 1,\n",
       "   'filter_efficiency': 1,\n",
       "   'negative_weights_fraction': -1,\n",
       "   'version': 0,\n",
       "   'cross_section': 1,\n",
       "   'filter_efficiency_error': 0}],\n",
       " 'flown_with': '',\n",
       " 'priority': 20000,\n",
       " 'version': 0,\n",
       " 'generators': ['madgraph'],\n",
       " 'analysis_id': [],\n",
       " 'memory': 2000,\n",
       " 'type': 'LHE',\n",
       " '_rev': '3-a7c86706289bf967024c77945db3cae7',\n",
       " 'status': 'new',\n",
       " 'keep_output': [False],\n",
       " 'energy': 13.6,\n",
       " 'tags': ['20221207_vasarkis_WprimeToENu'],\n",
       " 'fragment': 'import FWCore.ParameterSet.Config as cms\\n\\nexternalLHEProducer = cms.EDProducer(\"ExternalLHEProducer\",\\n    args = cms.vstring(\\'/cvmfs/cms.cern.ch/phys_generator/gridpacks/RunIII/13p6TeV/slc7_amd64_gcc700/MadGraph5_aMCatNLO/exo-mci/wprime/enu/WprimeToENu_M-1000_kR-0p01_LO_NNPDF31nnlo_slc7_amd64_gcc700_CMSSW_10_6_19_tarball.tar.xz\\'),\\n    nEvents = cms.untracked.uint32(5000),\\n    numberOfParameters = cms.uint32(1),\\n    outputFile = cms.string(\\'cmsgrid_final.lhe\\'),\\n    generateConcurrently = cms.untracked.bool(True),\\n    scriptName = cms.FileInPath(\\'GeneratorInterface/LHEInterface/data/run_generic_tarball_cvmfs.sh\\')\\n)\\nimport FWCore.ParameterSet.Config as cms\\n\\nfrom Configuration.Generator.Pythia8CommonSettings_cfi import *\\nfrom Configuration.Generator.MCTunes2017.PythiaCP5Settings_cfi import *\\nfrom Configuration.Generator.PSweightsPythia.PythiaPSweightsSettings_cfi import *\\n\\ngenerator = cms.EDFilter(\"Pythia8ConcurrentHadronizerFilter\",\\n    maxEventsToPrint = cms.untracked.int32(1),\\n    pythiaPylistVerbosity = cms.untracked.int32(1),\\n    \\n    pythiaHepMCVerbosity = cms.untracked.bool(False),\\n    comEnergy = cms.double(13600.),\\n    PythiaParameters = cms.PSet(\\n        pythia8CommonSettingsBlock,\\n        pythia8CP5SettingsBlock,\\n        pythia8PSweightsSettingsBlock,\\n        parameterSets = cms.vstring(\\'pythia8CommonSettings\\',\\n                                    \\'pythia8CP5Settings\\',\\n                                    \\'pythia8PSweightsSettings\\',\\n                                    )\\n    )\\n)\\n\\n\\n\\n\\n# Link to generator fragment:\\n# genFragments/Hadronizer/13p6TeV/Hadronizer_TuneCP5_13p6TeV_generic_LHE_pythia8_cff.py\\n',\n",
       " '_id': 'EXO-Run3Summer22EEwmLHEGS-00757',\n",
       " 'time_event': [0.7544085],\n",
       " 'pwg': 'EXO',\n",
       " 'member_of_chain': [],\n",
       " 'approval': 'none',\n",
       " 'name_of_fragment': '',\n",
       " 'pileup_dataset_name': '',\n",
       " 'pilot': False,\n",
       " 'input_dataset': '',\n",
       " 'reqmgr_name': [],\n",
       " 'prepid': 'EXO-Run3Summer22EEwmLHEGS-00757',\n",
       " 'extension': 0,\n",
       " 'size_event': [105.5723],\n",
       " 'notes': '',\n",
       " 'completed_events': -1,\n",
       " 'history': [{'action': 'created',\n",
       "   'updater': {'submission_date': '2022-12-18-00-50',\n",
       "    'author_email': 'dawei.fu@cern.ch',\n",
       "    'author_username': 'dfu',\n",
       "    'author_name': 'Dawei Fu'}},\n",
       "  {'action': 'created',\n",
       "   'updater': {'submission_date': '2022-12-18-00-50',\n",
       "    'author_email': 'dawei.fu@cern.ch',\n",
       "    'author_username': 'dfu',\n",
       "    'author_name': 'Dawei Fu'}},\n",
       "  {'action': 'update',\n",
       "   'step': 'generator_parameters[0].cross_section, generator_parameters[0].filter_efficiency, generator_parameters[0].filter_efficiency_error, generator_parameters[0].match_efficiency, generator_parameters[0].match_efficiency_error',\n",
       "   'updater': {'submission_date': '2022-12-18-00-50',\n",
       "    'author_email': 'dawei.fu@cern.ch',\n",
       "    'author_username': 'dfu',\n",
       "    'author_name': 'Dawei Fu'}}],\n",
       " 'output_dataset': [],\n",
       " 'member_of_campaign': 'Run3Summer22EEwmLHEGS',\n",
       " 'validation': {'content': 'all', 'valid': False},\n",
       " 'dataset_name': 'WprimeToENu_M-1000_kR-0p01_LO_TuneCP5_13p6TeV-madgraph-pythia8',\n",
       " 'cadi_line': ''}"
      ]
     },
     "execution_count": 18,
     "metadata": {},
     "output_type": "execute_result"
    }
   ],
   "source": [
    "results[0]"
   ]
  },
  {
   "cell_type": "code",
   "execution_count": 19,
   "metadata": {},
   "outputs": [],
   "source": [
    "for r in results:\n",
    "    r['time_event'] = [20]\n",
    "    r['size_event'] = [600]\n",
    "    r['fragment'] = r['fragment'].replace('from Configuration.Generator.MCTunes2017.PythiaCP5Settings_cfi import *', 'from  Configuration.Generator.MCTunesRun3ECM13p6TeV.PythiaCP5Settings_cfi import *')"
   ]
  },
  {
   "cell_type": "code",
   "execution_count": 20,
   "metadata": {},
   "outputs": [
    {
     "data": {
      "text/plain": [
       "{'total_events': 37500,\n",
       " 'config_id': [],\n",
       " 'events_per_lumi': 0,\n",
       " 'cmssw_release': 'CMSSW_12_4_11_patch3',\n",
       " 'mcdb_id': 0,\n",
       " 'transient_output_modules': [[]],\n",
       " 'sequences': [{'eventcontent': ['RAWSIM', 'LHE'],\n",
       "   'runsScenarioForMC': '',\n",
       "   'donotDropOnInput': '',\n",
       "   'extra': '',\n",
       "   'slhc': '',\n",
       "   'runsAndWeightsForMC': '',\n",
       "   'outputCommand': '',\n",
       "   'dropDescendant': False,\n",
       "   'pileup': '',\n",
       "   'hltProcess': '',\n",
       "   'index': -1,\n",
       "   'customise': '',\n",
       "   'custom_conditions': '',\n",
       "   'datatier': ['GEN-SIM', 'LHE'],\n",
       "   'processName': '',\n",
       "   'inputCommands': '',\n",
       "   'particle_table': '',\n",
       "   'conditions': '124X_mcRun3_2022_realistic_postEE_v1',\n",
       "   'harvesting': '',\n",
       "   'triggerResultsProcess': '',\n",
       "   'inputEventContent': '',\n",
       "   'beamspot': 'Run3RoundOptics25ns13TeVLowSigmaZ',\n",
       "   'restoreRNDSeeds': '',\n",
       "   'filtername': '',\n",
       "   'repacked': '',\n",
       "   'customise_commands': '',\n",
       "   'step': ['LHE', 'GEN', 'SIM'],\n",
       "   'gflash': '',\n",
       "   'procModifiers': '',\n",
       "   'magField': '',\n",
       "   'himix': False,\n",
       "   'nThreads': 1,\n",
       "   'scenario': '',\n",
       "   'geometry': 'DB:Extended',\n",
       "   'nStreams': 0,\n",
       "   'datamix': '',\n",
       "   'inline_custom': False,\n",
       "   'era': 'Run3'}],\n",
       " 'block_black_list': [],\n",
       " 'block_white_list': [],\n",
       " 'interested_pwg': ['EXO'],\n",
       " 'process_string': '',\n",
       " 'ppd_tags': [],\n",
       " 'fragment_tag': '',\n",
       " 'generator_parameters': [{'submission_details': {'submission_date': '2022-12-18-00-50',\n",
       "    'author_email': 'dawei.fu@cern.ch',\n",
       "    'author_username': 'dfu',\n",
       "    'author_name': 'Dawei Fu'},\n",
       "   'match_efficiency_error': 0,\n",
       "   'match_efficiency': 1,\n",
       "   'filter_efficiency': 1,\n",
       "   'negative_weights_fraction': -1,\n",
       "   'version': 0,\n",
       "   'cross_section': 1,\n",
       "   'filter_efficiency_error': 0}],\n",
       " 'flown_with': '',\n",
       " 'priority': 20000,\n",
       " 'version': 0,\n",
       " 'generators': ['madgraph'],\n",
       " 'analysis_id': [],\n",
       " 'memory': 2000,\n",
       " 'type': 'LHE',\n",
       " '_rev': '3-a7c86706289bf967024c77945db3cae7',\n",
       " 'status': 'new',\n",
       " 'keep_output': [False],\n",
       " 'energy': 13.6,\n",
       " 'tags': ['20221207_vasarkis_WprimeToENu'],\n",
       " 'fragment': 'import FWCore.ParameterSet.Config as cms\\n\\nexternalLHEProducer = cms.EDProducer(\"ExternalLHEProducer\",\\n    args = cms.vstring(\\'/cvmfs/cms.cern.ch/phys_generator/gridpacks/RunIII/13p6TeV/slc7_amd64_gcc700/MadGraph5_aMCatNLO/exo-mci/wprime/enu/WprimeToENu_M-1000_kR-0p01_LO_NNPDF31nnlo_slc7_amd64_gcc700_CMSSW_10_6_19_tarball.tar.xz\\'),\\n    nEvents = cms.untracked.uint32(5000),\\n    numberOfParameters = cms.uint32(1),\\n    outputFile = cms.string(\\'cmsgrid_final.lhe\\'),\\n    generateConcurrently = cms.untracked.bool(True),\\n    scriptName = cms.FileInPath(\\'GeneratorInterface/LHEInterface/data/run_generic_tarball_cvmfs.sh\\')\\n)\\nimport FWCore.ParameterSet.Config as cms\\n\\nfrom Configuration.Generator.Pythia8CommonSettings_cfi import *\\nfrom  Configuration.Generator.MCTunesRun3ECM13p6TeV.PythiaCP5Settings_cfi import *\\nfrom Configuration.Generator.PSweightsPythia.PythiaPSweightsSettings_cfi import *\\n\\ngenerator = cms.EDFilter(\"Pythia8ConcurrentHadronizerFilter\",\\n    maxEventsToPrint = cms.untracked.int32(1),\\n    pythiaPylistVerbosity = cms.untracked.int32(1),\\n    \\n    pythiaHepMCVerbosity = cms.untracked.bool(False),\\n    comEnergy = cms.double(13600.),\\n    PythiaParameters = cms.PSet(\\n        pythia8CommonSettingsBlock,\\n        pythia8CP5SettingsBlock,\\n        pythia8PSweightsSettingsBlock,\\n        parameterSets = cms.vstring(\\'pythia8CommonSettings\\',\\n                                    \\'pythia8CP5Settings\\',\\n                                    \\'pythia8PSweightsSettings\\',\\n                                    )\\n    )\\n)\\n\\n\\n\\n\\n# Link to generator fragment:\\n# genFragments/Hadronizer/13p6TeV/Hadronizer_TuneCP5_13p6TeV_generic_LHE_pythia8_cff.py\\n',\n",
       " '_id': 'EXO-Run3Summer22EEwmLHEGS-00757',\n",
       " 'time_event': [20],\n",
       " 'pwg': 'EXO',\n",
       " 'member_of_chain': [],\n",
       " 'approval': 'none',\n",
       " 'name_of_fragment': '',\n",
       " 'pileup_dataset_name': '',\n",
       " 'pilot': False,\n",
       " 'input_dataset': '',\n",
       " 'reqmgr_name': [],\n",
       " 'prepid': 'EXO-Run3Summer22EEwmLHEGS-00757',\n",
       " 'extension': 0,\n",
       " 'size_event': [600],\n",
       " 'notes': '',\n",
       " 'completed_events': -1,\n",
       " 'history': [{'action': 'created',\n",
       "   'updater': {'submission_date': '2022-12-18-00-50',\n",
       "    'author_email': 'dawei.fu@cern.ch',\n",
       "    'author_username': 'dfu',\n",
       "    'author_name': 'Dawei Fu'}},\n",
       "  {'action': 'created',\n",
       "   'updater': {'submission_date': '2022-12-18-00-50',\n",
       "    'author_email': 'dawei.fu@cern.ch',\n",
       "    'author_username': 'dfu',\n",
       "    'author_name': 'Dawei Fu'}},\n",
       "  {'action': 'update',\n",
       "   'step': 'generator_parameters[0].cross_section, generator_parameters[0].filter_efficiency, generator_parameters[0].filter_efficiency_error, generator_parameters[0].match_efficiency, generator_parameters[0].match_efficiency_error',\n",
       "   'updater': {'submission_date': '2022-12-18-00-50',\n",
       "    'author_email': 'dawei.fu@cern.ch',\n",
       "    'author_username': 'dfu',\n",
       "    'author_name': 'Dawei Fu'}}],\n",
       " 'output_dataset': [],\n",
       " 'member_of_campaign': 'Run3Summer22EEwmLHEGS',\n",
       " 'validation': {'content': 'all', 'valid': False},\n",
       " 'dataset_name': 'WprimeToENu_M-1000_kR-0p01_LO_TuneCP5_13p6TeV-madgraph-pythia8',\n",
       " 'cadi_line': ''}"
      ]
     },
     "execution_count": 20,
     "metadata": {},
     "output_type": "execute_result"
    }
   ],
   "source": [
    "results[0]"
   ]
  },
  {
   "cell_type": "code",
   "execution_count": 21,
   "metadata": {},
   "outputs": [],
   "source": [
    "for r in results:\n",
    "    output = mcm.update('requests', r)\n",
    "    if output['results'] == False:\n",
    "        print(r['_id'],output['message'])"
   ]
  },
  {
   "cell_type": "code",
   "execution_count": null,
   "metadata": {},
   "outputs": [],
   "source": []
  }
 ],
 "metadata": {
  "kernelspec": {
   "display_name": "Python 3.9.6 64-bit",
   "language": "python",
   "name": "python3"
  },
  "language_info": {
   "codemirror_mode": {
    "name": "ipython",
    "version": 3
   },
   "file_extension": ".py",
   "mimetype": "text/x-python",
   "name": "python",
   "nbconvert_exporter": "python",
   "pygments_lexer": "ipython3",
   "version": "3.9.6"
  },
  "orig_nbformat": 4,
  "vscode": {
   "interpreter": {
    "hash": "bc8653c37afde981a02f518cc5ed66e36d68f5e1c41895fdf66da08341e86c45"
   }
  }
 },
 "nbformat": 4,
 "nbformat_minor": 2
}
