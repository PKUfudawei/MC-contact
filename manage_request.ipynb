{
 "cells": [
  {
   "cell_type": "code",
   "execution_count": 1,
   "metadata": {},
   "outputs": [],
   "source": [
    "import sys\n",
    "import os\n",
    "import pandas as pd\n",
    "sys.path.append('/afs/cern.ch/cms/PPD/PdmV/tools/McM/')\n",
    "from rest import McM"
   ]
  },
  {
   "cell_type": "code",
   "execution_count": 9,
   "metadata": {},
   "outputs": [
    {
     "name": "stderr",
     "output_type": "stream",
     "text": [
      "[2023-01-08 04:55:56,177][INFO] Using SSO cookie file /afs/cern.ch/user/d/dfu/private/mcm-prod-cookie.txt\n"
     ]
    },
    {
     "data": {
      "text/plain": [
       "12"
      ]
     },
     "execution_count": 9,
     "metadata": {},
     "output_type": "execute_result"
    }
   ],
   "source": [
    "mcm = McM(dev=False)\n",
    "time_per_event = {\n",
    "    '20221220_ciperez_UnparToGG2016': 40,\n",
    "    '20230103_ciperez_ADDToGGTuneCUEP8M1_16': 50,\n",
    "    '20230103_ciperez_UnparToGGTuneCUEP8M1_16': 70,\n",
    "}\n",
    "tags = '20221220_ciperez_UnparToGG2016'\n",
    "results = mcm.get('requests', query=f'tags={tags}&approval=none')\n",
    "len(results)"
   ]
  },
  {
   "cell_type": "code",
   "execution_count": 21,
   "metadata": {},
   "outputs": [],
   "source": [
    "CLEAR=False\n",
    "if CLEAR:\n",
    "    for r in results:\n",
    "        mcm.delete(object_type='requests', object_id=r['_id'])"
   ]
  },
  {
   "cell_type": "code",
   "execution_count": 10,
   "metadata": {},
   "outputs": [
    {
     "data": {
      "text/plain": [
       "[20]"
      ]
     },
     "execution_count": 10,
     "metadata": {},
     "output_type": "execute_result"
    }
   ],
   "source": [
    "results[0]['time_event']"
   ]
  },
  {
   "cell_type": "code",
   "execution_count": 11,
   "metadata": {},
   "outputs": [],
   "source": [
    "for r in results:\n",
    "    r['time_event'] = [70]\n",
    "    r['size_event'] = [300]\n",
    "    #r['fragment'] = r['fragment'].replace('from  Configuration.Generator.MCTunesRun3ECM13p6TeV.PythiaCP5Settings_cfi import *', 'from Configuration.Generator.MCTunesRun3ECM13p6TeV.PythiaCP5Settings_cfi import *')"
   ]
  },
  {
   "cell_type": "code",
   "execution_count": 5,
   "metadata": {},
   "outputs": [
    {
     "data": {
      "text/plain": [
       "{'total_events': 100000,\n",
       " 'config_id': [],\n",
       " 'events_per_lumi': 0,\n",
       " 'cmssw_release': 'CMSSW_7_1_47',\n",
       " 'mcdb_id': -1,\n",
       " 'transient_output_modules': [[]],\n",
       " 'sequences': [{'eventcontent': ['RAWSIM'],\n",
       "   'runsScenarioForMC': '',\n",
       "   'donotDropOnInput': '',\n",
       "   'extra': '',\n",
       "   'slhc': '',\n",
       "   'runsAndWeightsForMC': '',\n",
       "   'outputCommand': '',\n",
       "   'dropDescendant': False,\n",
       "   'pileup': '',\n",
       "   'hltProcess': '',\n",
       "   'index': -1,\n",
       "   'customise': 'SLHCUpgradeSimulations/Configuration/postLS1Customs.customisePostLS1',\n",
       "   'custom_conditions': '',\n",
       "   'datatier': ['GEN-SIM'],\n",
       "   'processName': '',\n",
       "   'inputCommands': '',\n",
       "   'particle_table': '',\n",
       "   'conditions': 'MCRUN2_71_V1::All',\n",
       "   'harvesting': '',\n",
       "   'triggerResultsProcess': '',\n",
       "   'inputEventContent': '',\n",
       "   'beamspot': 'Realistic50ns13TeVCollision',\n",
       "   'restoreRNDSeeds': '',\n",
       "   'filtername': '',\n",
       "   'repacked': '',\n",
       "   'customise_commands': '',\n",
       "   'step': ['GEN', 'SIM'],\n",
       "   'gflash': '',\n",
       "   'procModifiers': '',\n",
       "   'magField': '38T_PostLS1',\n",
       "   'himix': False,\n",
       "   'nThreads': 1,\n",
       "   'scenario': '',\n",
       "   'geometry': '',\n",
       "   'nStreams': 0,\n",
       "   'datamix': '',\n",
       "   'inline_custom': False,\n",
       "   'era': ''}],\n",
       " 'block_black_list': [],\n",
       " 'block_white_list': [],\n",
       " 'interested_pwg': ['EXO'],\n",
       " 'process_string': '',\n",
       " 'ppd_tags': [],\n",
       " 'fragment_tag': '',\n",
       " 'generator_parameters': [{'submission_details': {'submission_date': '2023-01-07-15-02',\n",
       "    'author_email': 'dawei.fu@cern.ch',\n",
       "    'author_username': 'dfu',\n",
       "    'author_name': 'Dawei Fu'},\n",
       "   'match_efficiency_error': 0,\n",
       "   'match_efficiency': 1,\n",
       "   'filter_efficiency': 1,\n",
       "   'negative_weights_fraction': -1,\n",
       "   'version': 0,\n",
       "   'cross_section': 1,\n",
       "   'filter_efficiency_error': 0}],\n",
       " 'flown_with': '',\n",
       " 'priority': 20000,\n",
       " 'version': 0,\n",
       " 'generators': ['pythia8'],\n",
       " 'analysis_id': [],\n",
       " 'memory': 2300,\n",
       " 'type': 'Prod',\n",
       " '_rev': '6-d7a8916b2d2f54b770fcec974cfcfa6c',\n",
       " 'status': 'new',\n",
       " 'keep_output': [False],\n",
       " 'energy': 13,\n",
       " 'tags': ['20230103_ciperez_ADDToGGTuneCUEP8M1_16'],\n",
       " 'fragment': 'import FWCore.ParameterSet.Config as cms \\n\\nfrom Configuration.Generator.Pythia8CommonSettings_cfi import *\\nfrom Configuration.Generator.Pythia8CUEP8M1Settings_cfi import *\\n\\ngenerator = cms.EDFilter(\"Pythia8GeneratorFilter\",\\n    maxEventsToPrint = cms.untracked.int32(1),\\n    pythiaPylistVerbosity = cms.untracked.int32(1),\\n    filterEfficiency = cms.untracked.double(1.0),\\n    pythiaHepMCVerbosity = cms.untracked.bool(False),\\n    comEnergy = cms.double(13000.),\\n    PythiaParameters = cms.PSet(\\n        pythia8CommonSettingsBlock,\\n        pythia8CUEP8M1SettingsBlock,\\n        processParameters = cms.vstring(\\n            \\'ExtraDimensionsLED:LambdaT = 6000.0\\',\\n            \\'ExtraDimensionsLED:n = 2\\',\\n            \\'ExtraDimensionsLED:ffbar2gammagamma = on\\',\\n            \\'ExtraDimensionsLED:gg2gammagamma = on\\',\\n            \\'ExtraDimensionsLED:CutOffmode = 2\\', \\n            \\'ExtraDimensionsLED:NegInt= 0\\',\\n            \\'PhaseSpace:pTHatMin = 70.0\\',\\n\\t    \\'PhaseSpace:mHatMin = 1000.0\\',\\n\\t    \\'PhaseSpace:mHatMax = 2000.0\\'\\n      \\n\\n\\n  ),  \\n        parameterSets = cms.vstring(\\'pythia8CommonSettings\\',\\n                                    \\'pythia8CUEP8M1Settings\\',\\n                                    \\'processParameters\\',\\n                                    )   \\n    )   \\n)\\n\\n',\n",
       " '_id': 'EXO-RunIISummer15GS-15219',\n",
       " 'time_event': [50],\n",
       " 'pwg': 'EXO',\n",
       " 'member_of_chain': [],\n",
       " 'approval': 'none',\n",
       " 'name_of_fragment': '',\n",
       " 'pileup_dataset_name': '',\n",
       " 'pilot': False,\n",
       " 'input_dataset': '',\n",
       " 'reqmgr_name': [],\n",
       " 'prepid': 'EXO-RunIISummer15GS-15219',\n",
       " 'extension': 0,\n",
       " 'size_event': [300],\n",
       " 'notes': '',\n",
       " 'completed_events': -1,\n",
       " 'history': [{'action': 'created',\n",
       "   'updater': {'submission_date': '2023-01-07-15-02',\n",
       "    'author_email': 'dawei.fu@cern.ch',\n",
       "    'author_username': 'dfu',\n",
       "    'author_name': 'Dawei Fu'}},\n",
       "  {'action': 'created',\n",
       "   'updater': {'submission_date': '2023-01-07-15-02',\n",
       "    'author_email': 'dawei.fu@cern.ch',\n",
       "    'author_username': 'dfu',\n",
       "    'author_name': 'Dawei Fu'}},\n",
       "  {'action': 'update',\n",
       "   'step': 'generator_parameters[0].cross_section, generator_parameters[0].filter_efficiency, generator_parameters[0].filter_efficiency_error, generator_parameters[0].match_efficiency, generator_parameters[0].match_efficiency_error',\n",
       "   'updater': {'submission_date': '2023-01-07-15-02',\n",
       "    'author_email': 'dawei.fu@cern.ch',\n",
       "    'author_username': 'dfu',\n",
       "    'author_name': 'Dawei Fu'}},\n",
       "  {'action': 'update',\n",
       "   'step': 'size_event[0], time_event[0]',\n",
       "   'updater': {'submission_date': '2023-01-07-15-14',\n",
       "    'author_email': 'dawei.fu@cern.ch',\n",
       "    'author_username': 'dfu',\n",
       "    'author_name': 'Dawei Fu'}},\n",
       "  {'action': 'approve',\n",
       "   'step': 'validation',\n",
       "   'updater': {'submission_date': '2023-01-07-15-18',\n",
       "    'author_email': 'dawei.fu@cern.ch',\n",
       "    'author_username': 'dfu',\n",
       "    'author_name': 'Dawei Fu'}},\n",
       "  {'action': 'validation',\n",
       "   'step': 'failed',\n",
       "   'updater': {'submission_date': '2023-01-07-23-42',\n",
       "    'author_email': '',\n",
       "    'author_username': 'automatic',\n",
       "    'author_name': ''}}],\n",
       " 'output_dataset': [],\n",
       " 'member_of_campaign': 'RunIISummer15GS',\n",
       " 'validation': {'content': 'all', 'valid': False, 'results': {}},\n",
       " 'dataset_name': 'ADDGravToGG_NegInt-0_LambdaT-6000_M-1000To2000_TuneCUEP8M1_13TeV-pythia8',\n",
       " 'cadi_line': ''}"
      ]
     },
     "execution_count": 5,
     "metadata": {},
     "output_type": "execute_result"
    }
   ],
   "source": [
    "results[0]"
   ]
  },
  {
   "cell_type": "code",
   "execution_count": 12,
   "metadata": {},
   "outputs": [],
   "source": [
    "for r in results:\n",
    "    output = mcm.update('requests', r)\n",
    "    if output['results'] == False:\n",
    "        print(r['_id'],output['message'])"
   ]
  },
  {
   "cell_type": "code",
   "execution_count": 8,
   "metadata": {},
   "outputs": [
    {
     "data": {
      "text/plain": [
       "{15}"
      ]
     },
     "execution_count": 8,
     "metadata": {},
     "output_type": "execute_result"
    }
   ],
   "source": [
    "time = set()\n",
    "for r in results:\n",
    "    time.add(r['time_event'][0])\n",
    "time"
   ]
  },
  {
   "cell_type": "code",
   "execution_count": 11,
   "metadata": {},
   "outputs": [
    {
     "data": {
      "text/plain": [
       "{5}"
      ]
     },
     "execution_count": 11,
     "metadata": {},
     "output_type": "execute_result"
    }
   ],
   "source": []
  }
 ],
 "metadata": {
  "kernelspec": {
   "display_name": "Python 3.9.6 64-bit",
   "language": "python",
   "name": "python3"
  },
  "language_info": {
   "codemirror_mode": {
    "name": "ipython",
    "version": 3
   },
   "file_extension": ".py",
   "mimetype": "text/x-python",
   "name": "python",
   "nbconvert_exporter": "python",
   "pygments_lexer": "ipython3",
   "version": "3.9.6"
  },
  "orig_nbformat": 4,
  "vscode": {
   "interpreter": {
    "hash": "bc8653c37afde981a02f518cc5ed66e36d68f5e1c41895fdf66da08341e86c45"
   }
  }
 },
 "nbformat": 4,
 "nbformat_minor": 2
}
