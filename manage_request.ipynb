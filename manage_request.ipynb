{
 "cells": [
  {
   "cell_type": "code",
   "execution_count": 1,
   "metadata": {},
   "outputs": [],
   "source": [
    "import sys\n",
    "import os\n",
    "import pandas as pd\n",
    "sys.path.append('/afs/cern.ch/cms/PPD/PdmV/tools/McM/')\n",
    "from rest import McM"
   ]
  },
  {
   "cell_type": "code",
   "execution_count": 8,
   "metadata": {},
   "outputs": [],
   "source": [
    "\"\"\"\n",
    "base = '../EXO-MCsampleRequests/genFragments/Hadronizer/13p6TeV/LLstau'\n",
    "for pythia_file in os.listdir(base):\n",
    "    with open(os.path.join(base, pythia_file), 'r', encoding='utf-8') as f:\n",
    "        content = f.read()\n",
    "        \n",
    "    content = content.replace(\n",
    "        \"'/eos/cms/store/user/fiorendi/mc_sus/run3/sms_tstaustau/SMS-TStauStau-MM_mStau-%s_slc7_amd64_gcc10_CMSSW_12_4_8_tarball.tar.xz'\",\n",
    "        \"'/cvmfs/cms.cern.ch/phys_generator/gridpacks/RunIII/13p6TeV/slc7_amd64_gcc10/madgraph/sms_tstaustau/SMS-TStauStau-MM_mStau-%s_slc7_amd64_gcc10_CMSSW_12_4_8_tarball.tar.xz'\"\n",
    "    )\n",
    "    with open(os.path.join(base, pythia_file), 'w', encoding='utf-8') as f:\n",
    "        f.write(content)\n",
    "\"\"\""
   ]
  },
  {
   "attachments": {},
   "cell_type": "markdown",
   "metadata": {},
   "source": [
    "### McM scripting [tutorial](https://indico.cern.ch/event/894961/contributions/3774016/attachments/2005333/3349474/McM_Scripting_2020_03_18.pdf)\n",
    "### Documentation: [restapi](https://cms-pdmv.cern.ch/mcm/restapi)"
   ]
  },
  {
   "cell_type": "code",
   "execution_count": 3,
   "metadata": {},
   "outputs": [
    {
     "name": "stderr",
     "output_type": "stream",
     "text": [
      "[2024-03-02 05:04:32,226][INFO] Using SSO cookie file /afs/cern.ch/user/d/dfu/private/mcm-prod-cookie.txt\n"
     ]
    },
    {
     "data": {
      "text/plain": [
       "60"
      ]
     },
     "execution_count": 3,
     "metadata": {},
     "output_type": "execute_result"
    }
   ],
   "source": [
    "mcm = McM(dev=False)\n",
    "tags = '20240229_dazhang_Sphaleron'\n",
    "results = mcm.get('requests', query=f'tags={tags}')\n",
    "len(results)"
   ]
  },
  {
   "cell_type": "code",
   "execution_count": 13,
   "metadata": {},
   "outputs": [],
   "source": [
    "CLEAR=False\n",
    "if CLEAR:\n",
    "    for r in results:\n",
    "        mcm.delete(object_type='requests', object_id=r['_id'])"
   ]
  },
  {
   "cell_type": "code",
   "execution_count": 4,
   "metadata": {},
   "outputs": [],
   "source": [
    "for r in results:\n",
    "    #if r['dataset_name'].split('_')[1] in ('MStau-100', 'MStau-400'):\n",
    "    #    print(r)\n",
    "    #    r['tags'].append('20231211_fiorendi_GMSB_staus_to_taus_high_priority')\n",
    "    #r['member_of_campaign'] = r['member_of_campaign'].replace('wmLHEGEN', 'GEN')\n",
    "    r['fragment'] = r['fragment'].replace('generateConcurrently = cms.untracked.bool(False)', 'generateConcurrently = cms.untracked.bool(True)')\n",
    "    #r['time_event'] = [13]\n",
    "    #r['size_event'] = [1252]\n",
    "    #r['mcdb_id'] = 0\n",
    "    #r['tags'] = ['20231211_fiorendi_GMSB_staus_to_taus']\n",
    "    #print(r['dataset_name'].split('_M')[1].split('_')[0], r['fragment'].split(\"GRIDPACK = \\'\")[1].split(\"\\' %\")[0])"
   ]
  },
  {
   "cell_type": "code",
   "execution_count": 5,
   "metadata": {},
   "outputs": [],
   "source": [
    "for r in results:\n",
    "    output = mcm.update('requests', r)\n",
    "    if output['results'] == False:\n",
    "        print(r['_id'], output['message'])"
   ]
  },
  {
   "cell_type": "code",
   "execution_count": 6,
   "metadata": {},
   "outputs": [
    {
     "data": {
      "text/plain": [
       "{8}"
      ]
     },
     "execution_count": 6,
     "metadata": {},
     "output_type": "execute_result"
    }
   ],
   "source": [
    "time = set()\n",
    "for r in results:\n",
    "    time.add(r['time_event'][0])\n",
    "time"
   ]
  },
  {
   "cell_type": "code",
   "execution_count": 6,
   "metadata": {},
   "outputs": [
    {
     "data": {
      "text/plain": [
       "'import FWCore.ParameterSet.Config as cms\\n\\nexternalLHEProducer = cms.EDProducer(\"ExternalLHEProducer\",\\n    args = cms.vstring(\\'/cvmfs/cms.cern.ch/phys_generator/gridpacks/RunIII/13p6TeV/el8_amd64_gcc10/BaryoGen/Sphaleron/BaryoGEN_COM13600_thr8500_pNCS0_gridpack.tar.xz\\'),\\n    nEvents = cms.untracked.uint32(5000),\\n    numberOfParameters = cms.uint32(1),\\n    outputFile = cms.string(\\'cmsgrid_final.lhe\\'),\\n    generateConcurrently = cms.untracked.bool(True),\\n    scriptName = cms.FileInPath(\\'GeneratorInterface/LHEInterface/data/run_generic_tarball_cvmfs.sh\\')\\n)\\nimport FWCore.ParameterSet.Config as cms\\n\\nfrom Configuration.Generator.Pythia8CommonSettings_cfi import *\\nfrom Configuration.Generator.MCTunesRun3ECM13p6TeV.PythiaCP5Settings_cfi import *\\nfrom Configuration.Generator.PSweightsPythia.PythiaPSweightsSettings_cfi import *\\n\\ngenerator = cms.EDFilter(\"Pythia8ConcurrentHadronizerFilter\",\\n    maxEventsToPrint = cms.untracked.int32(1),\\n    pythiaPylistVerbosity = cms.untracked.int32(1),\\n    \\n    pythiaHepMCVerbosity = cms.untracked.bool(False),\\n    comEnergy = cms.double(13600.),\\n    PythiaParameters = cms.PSet(\\n        pythia8CommonSettingsBlock,\\n        pythia8CP5SettingsBlock,\\n        pythia8PSweightsSettingsBlock,\\n        parameterSets = cms.vstring(\\'pythia8CommonSettings\\',\\n                                    \\'pythia8CP5Settings\\',\\n                                    \\'pythia8PSweightsSettings\\',\\n                                    )\\n    )\\n)\\n\\n\\n\\n\\n# Link to generator fragment:\\n# genFragments/Hadronizer/13p6TeV/Hadronizer_TuneCP5_13p6TeV_generic_LHE_pythia8_cff.py\\n'"
      ]
     },
     "execution_count": 6,
     "metadata": {},
     "output_type": "execute_result"
    }
   ],
   "source": [
    "r = results[0]\n",
    "r['fragment']"
   ]
  },
  {
   "cell_type": "code",
   "execution_count": null,
   "metadata": {},
   "outputs": [],
   "source": []
  }
 ],
 "metadata": {
  "kernelspec": {
   "display_name": "Python 3.9.6 64-bit",
   "language": "python",
   "name": "python3"
  },
  "language_info": {
   "codemirror_mode": {
    "name": "ipython",
    "version": 3
   },
   "file_extension": ".py",
   "mimetype": "text/x-python",
   "name": "python",
   "nbconvert_exporter": "python",
   "pygments_lexer": "ipython3",
   "version": "3.11.5"
  },
  "orig_nbformat": 4,
  "vscode": {
   "interpreter": {
    "hash": "bc8653c37afde981a02f518cc5ed66e36d68f5e1c41895fdf66da08341e86c45"
   }
  }
 },
 "nbformat": 4,
 "nbformat_minor": 2
}
