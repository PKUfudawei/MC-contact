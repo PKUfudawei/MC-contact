{
 "cells": [
  {
   "cell_type": "code",
   "execution_count": 1,
   "metadata": {},
   "outputs": [],
   "source": [
    "import sys\n",
    "import os\n",
    "import pandas as pd\n",
    "sys.path.append('/afs/cern.ch/cms/PPD/PdmV/tools/McM/')\n",
    "from rest import McM"
   ]
  },
  {
   "attachments": {},
   "cell_type": "markdown",
   "metadata": {},
   "source": [
    "### McM scripting [tutorial](https://indico.cern.ch/event/894961/contributions/3774016/attachments/2005333/3349474/McM_Scripting_2020_03_18.pdf)\n",
    "### Documentation: [restapi](https://cms-pdmv.cern.ch/mcm/restapi)"
   ]
  },
  {
   "cell_type": "code",
   "execution_count": 2,
   "metadata": {},
   "outputs": [
    {
     "name": "stderr",
     "output_type": "stream",
     "text": [
      "[2023-11-13 09:49:17,897][INFO] Using SSO cookie file /afs/cern.ch/user/d/dfu/private/mcm-prod-cookie.txt\n",
      "[2023-11-13 09:49:17,949][ERROR] Verifying credential: HTTP response has a 3XX status code\n",
      "[2023-11-13 09:49:17,952][ERROR] The provided credential is not valid\n",
      "[2023-11-13 09:49:17,952][INFO] Authentication mechanism: sso\n"
     ]
    },
    {
     "name": "stderr",
     "output_type": "stream",
     "text": [
      "[2023-11-13 09:49:20,202][WARNING] Python 3.X version currently used has reached its end of life or it will reach it in the near future.\n",
      "Please consider using a newer version. Python version: 3.9.6 (default, Dec 16 2021, 17:01:31) \n",
      "[GCC 10.3.0] \n",
      "\n"
     ]
    },
    {
     "data": {
      "text/plain": [
       "44"
      ]
     },
     "execution_count": 2,
     "metadata": {},
     "output_type": "execute_result"
    }
   ],
   "source": [
    "mcm = McM(dev=False)\n",
    "tags = '20231101_jreicher_SUEP_WH'\n",
    "results = mcm.get('requests', query=f'tags={tags}&status=new&approval=none')\n",
    "len(results)"
   ]
  },
  {
   "cell_type": "code",
   "execution_count": 6,
   "metadata": {},
   "outputs": [
    {
     "data": {
      "text/plain": [
       "'RunIISummer20UL16wmLHEGEN'"
      ]
     },
     "execution_count": 6,
     "metadata": {},
     "output_type": "execute_result"
    }
   ],
   "source": [
    "results[0]['member_of_campaign']"
   ]
  },
  {
   "cell_type": "code",
   "execution_count": 10,
   "metadata": {},
   "outputs": [],
   "source": [
    "CLEAR=True\n",
    "if CLEAR:\n",
    "    for r in results:\n",
    "        mcm.delete(object_type='requests', object_id=r['_id'])"
   ]
  },
  {
   "cell_type": "code",
   "execution_count": 11,
   "metadata": {},
   "outputs": [
    {
     "name": "stdout",
     "output_type": "stream",
     "text": [
      "RunIISummer20UL16GEN\n",
      "RunIISummer20UL16GEN\n",
      "RunIISummer20UL16GEN\n",
      "RunIISummer20UL16GEN\n",
      "RunIISummer20UL16GEN\n",
      "RunIISummer20UL16GEN\n",
      "RunIISummer20UL16GEN\n",
      "RunIISummer20UL16GEN\n",
      "RunIISummer20UL16GEN\n",
      "RunIISummer20UL16GEN\n",
      "RunIISummer20UL16GEN\n",
      "RunIISummer20UL16GENAPV\n",
      "RunIISummer20UL16GENAPV\n",
      "RunIISummer20UL16GENAPV\n",
      "RunIISummer20UL16GENAPV\n",
      "RunIISummer20UL16GENAPV\n",
      "RunIISummer20UL16GENAPV\n",
      "RunIISummer20UL16GENAPV\n",
      "RunIISummer20UL16GENAPV\n",
      "RunIISummer20UL16GENAPV\n",
      "RunIISummer20UL16GENAPV\n",
      "RunIISummer20UL16GENAPV\n",
      "RunIISummer20UL17GEN\n",
      "RunIISummer20UL17GEN\n",
      "RunIISummer20UL17GEN\n",
      "RunIISummer20UL17GEN\n",
      "RunIISummer20UL17GEN\n",
      "RunIISummer20UL17GEN\n",
      "RunIISummer20UL17GEN\n",
      "RunIISummer20UL17GEN\n",
      "RunIISummer20UL17GEN\n",
      "RunIISummer20UL17GEN\n",
      "RunIISummer20UL17GEN\n",
      "RunIISummer20UL18GEN\n",
      "RunIISummer20UL18GEN\n",
      "RunIISummer20UL18GEN\n",
      "RunIISummer20UL18GEN\n",
      "RunIISummer20UL18GEN\n",
      "RunIISummer20UL18GEN\n",
      "RunIISummer20UL18GEN\n",
      "RunIISummer20UL18GEN\n",
      "RunIISummer20UL18GEN\n",
      "RunIISummer20UL18GEN\n",
      "RunIISummer20UL18GEN\n"
     ]
    }
   ],
   "source": [
    "for r in results:\n",
    "    print(r['member_of_campaign'])\n",
    "    #r['member_of_campaign'] = r['member_of_campaign'].replace('wmLHEGEN', 'GEN')\n",
    "    #r['fragment'] = r['fragment'].replace('generateConcurrently = cms.untracked.bool(True),', 'generateConcurrently = cms.untracked.bool(False),')\n",
    "    #r['time_event'] = [13]\n",
    "    #r['size_event'] = [1252]\n",
    "    #r['mcdb_id'] = 0\n",
    "    #print(r['dataset_name'].split('_M')[1].split('_')[0], r['fragment'].split(\"GRIDPACK = \\'\")[1].split(\"\\' %\")[0])"
   ]
  },
  {
   "cell_type": "code",
   "execution_count": 8,
   "metadata": {},
   "outputs": [
    {
     "name": "stdout",
     "output_type": "stream",
     "text": [
      "EXO-RunIISummer20UL16wmLHEGEN-04615 Illegal change of parameter member_of_campaign\n",
      "EXO-RunIISummer20UL16wmLHEGEN-04616 Illegal change of parameter member_of_campaign\n",
      "EXO-RunIISummer20UL16wmLHEGEN-04617 Illegal change of parameter member_of_campaign\n",
      "EXO-RunIISummer20UL16wmLHEGEN-04618 Illegal change of parameter member_of_campaign\n",
      "EXO-RunIISummer20UL16wmLHEGEN-04619 Illegal change of parameter member_of_campaign\n",
      "EXO-RunIISummer20UL16wmLHEGEN-04620 Illegal change of parameter member_of_campaign\n",
      "EXO-RunIISummer20UL16wmLHEGEN-04621 Illegal change of parameter member_of_campaign\n",
      "EXO-RunIISummer20UL16wmLHEGEN-04622 Illegal change of parameter member_of_campaign\n",
      "EXO-RunIISummer20UL16wmLHEGEN-04623 Illegal change of parameter member_of_campaign\n",
      "EXO-RunIISummer20UL16wmLHEGEN-04624 Illegal change of parameter member_of_campaign\n",
      "EXO-RunIISummer20UL16wmLHEGEN-04625 Illegal change of parameter member_of_campaign\n",
      "EXO-RunIISummer20UL16wmLHEGENAPV-04368 Illegal change of parameter member_of_campaign\n",
      "EXO-RunIISummer20UL16wmLHEGENAPV-04369 Illegal change of parameter member_of_campaign\n",
      "EXO-RunIISummer20UL16wmLHEGENAPV-04370 Illegal change of parameter member_of_campaign\n",
      "EXO-RunIISummer20UL16wmLHEGENAPV-04371 Illegal change of parameter member_of_campaign\n",
      "EXO-RunIISummer20UL16wmLHEGENAPV-04372 Illegal change of parameter member_of_campaign\n",
      "EXO-RunIISummer20UL16wmLHEGENAPV-04373 Illegal change of parameter member_of_campaign\n",
      "EXO-RunIISummer20UL16wmLHEGENAPV-04374 Illegal change of parameter member_of_campaign\n",
      "EXO-RunIISummer20UL16wmLHEGENAPV-04375 Illegal change of parameter member_of_campaign\n",
      "EXO-RunIISummer20UL16wmLHEGENAPV-04376 Illegal change of parameter member_of_campaign\n",
      "EXO-RunIISummer20UL16wmLHEGENAPV-04377 Illegal change of parameter member_of_campaign\n",
      "EXO-RunIISummer20UL16wmLHEGENAPV-04378 Illegal change of parameter member_of_campaign\n",
      "EXO-RunIISummer20UL17wmLHEGEN-04404 Illegal change of parameter member_of_campaign\n",
      "EXO-RunIISummer20UL17wmLHEGEN-04405 Illegal change of parameter member_of_campaign\n",
      "EXO-RunIISummer20UL17wmLHEGEN-04406 Illegal change of parameter member_of_campaign\n",
      "EXO-RunIISummer20UL17wmLHEGEN-04407 Illegal change of parameter member_of_campaign\n",
      "EXO-RunIISummer20UL17wmLHEGEN-04408 Illegal change of parameter member_of_campaign\n",
      "EXO-RunIISummer20UL17wmLHEGEN-04409 Illegal change of parameter member_of_campaign\n",
      "EXO-RunIISummer20UL17wmLHEGEN-04410 Illegal change of parameter member_of_campaign\n",
      "EXO-RunIISummer20UL17wmLHEGEN-04411 Illegal change of parameter member_of_campaign\n",
      "EXO-RunIISummer20UL17wmLHEGEN-04412 Illegal change of parameter member_of_campaign\n",
      "EXO-RunIISummer20UL17wmLHEGEN-04413 Illegal change of parameter member_of_campaign\n",
      "EXO-RunIISummer20UL17wmLHEGEN-04414 Illegal change of parameter member_of_campaign\n",
      "EXO-RunIISummer20UL18wmLHEGEN-04441 Illegal change of parameter member_of_campaign\n",
      "EXO-RunIISummer20UL18wmLHEGEN-04442 Illegal change of parameter member_of_campaign\n",
      "EXO-RunIISummer20UL18wmLHEGEN-04443 Illegal change of parameter member_of_campaign\n",
      "EXO-RunIISummer20UL18wmLHEGEN-04444 Illegal change of parameter member_of_campaign\n",
      "EXO-RunIISummer20UL18wmLHEGEN-04445 Illegal change of parameter member_of_campaign\n",
      "EXO-RunIISummer20UL18wmLHEGEN-04446 Illegal change of parameter member_of_campaign\n",
      "EXO-RunIISummer20UL18wmLHEGEN-04447 Illegal change of parameter member_of_campaign\n",
      "EXO-RunIISummer20UL18wmLHEGEN-04448 Illegal change of parameter member_of_campaign\n",
      "EXO-RunIISummer20UL18wmLHEGEN-04449 Illegal change of parameter member_of_campaign\n",
      "EXO-RunIISummer20UL18wmLHEGEN-04450 Illegal change of parameter member_of_campaign\n",
      "EXO-RunIISummer20UL18wmLHEGEN-04451 Illegal change of parameter member_of_campaign\n"
     ]
    }
   ],
   "source": [
    "for r in results:\n",
    "    output = mcm.update('requests', r)\n",
    "    if output['results'] == False:\n",
    "        print(r['_id'], output['message'])"
   ]
  },
  {
   "cell_type": "code",
   "execution_count": 6,
   "metadata": {},
   "outputs": [
    {
     "data": {
      "text/plain": [
       "{8}"
      ]
     },
     "execution_count": 6,
     "metadata": {},
     "output_type": "execute_result"
    }
   ],
   "source": [
    "time = set()\n",
    "for r in results:\n",
    "    time.add(r['time_event'][0])\n",
    "time"
   ]
  },
  {
   "cell_type": "code",
   "execution_count": null,
   "metadata": {},
   "outputs": [],
   "source": []
  }
 ],
 "metadata": {
  "kernelspec": {
   "display_name": "Python 3.9.6 64-bit",
   "language": "python",
   "name": "python3"
  },
  "language_info": {
   "codemirror_mode": {
    "name": "ipython",
    "version": 3
   },
   "file_extension": ".py",
   "mimetype": "text/x-python",
   "name": "python",
   "nbconvert_exporter": "python",
   "pygments_lexer": "ipython3",
   "version": "3.9.6"
  },
  "orig_nbformat": 4,
  "vscode": {
   "interpreter": {
    "hash": "bc8653c37afde981a02f518cc5ed66e36d68f5e1c41895fdf66da08341e86c45"
   }
  }
 },
 "nbformat": 4,
 "nbformat_minor": 2
}
